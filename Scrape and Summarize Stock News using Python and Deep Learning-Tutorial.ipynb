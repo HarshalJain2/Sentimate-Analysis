{
 "cells": [
  {
   "cell_type": "markdown",
   "metadata": {},
   "source": [
    "# 1. Install and Import Baseline Dependencies"
   ]
  },
  {
   "cell_type": "code",
   "execution_count": 2,
   "metadata": {
    "collapsed": true
   },
   "outputs": [],
   "source": [
    "# !pip install transformers"
   ]
  },
  {
   "cell_type": "code",
   "execution_count": 3,
   "metadata": {},
   "outputs": [],
   "source": [
    "from transformers import PegasusTokenizer, PegasusForConditionalGeneration\n",
    "from bs4 import BeautifulSoup\n",
    "import requests"
   ]
  },
  {
   "cell_type": "markdown",
   "metadata": {},
   "source": [
    "# 2. Setup Summarization Model"
   ]
  },
  {
   "cell_type": "code",
   "execution_count": 4,
   "metadata": {},
   "outputs": [
    {
     "data": {
      "application/vnd.jupyter.widget-view+json": {
       "model_id": "93505fe632384e4fbd78cec98efdd2d0",
       "version_major": 2,
       "version_minor": 0
      },
      "text/plain": [
       "Downloading (…)okenizer_config.json:   0%|          | 0.00/1.44k [00:00<?, ?B/s]"
      ]
     },
     "metadata": {},
     "output_type": "display_data"
    },
    {
     "name": "stderr",
     "output_type": "stream",
     "text": [
      "c:\\Users\\jainh\\anaconda3\\lib\\site-packages\\huggingface_hub\\file_download.py:137: UserWarning: `huggingface_hub` cache-system uses symlinks by default to efficiently store duplicated files but your machine does not support them in C:\\Users\\jainh\\.cache\\huggingface\\hub. Caching files will still work but in a degraded version that might require more space on your disk. This warning can be disabled by setting the `HF_HUB_DISABLE_SYMLINKS_WARNING` environment variable. For more details, see https://huggingface.co/docs/huggingface_hub/how-to-cache#limitations.\n",
      "To support symlinks on Windows, you either need to activate Developer Mode or to run Python as an administrator. In order to see activate developer mode, see this article: https://docs.microsoft.com/en-us/windows/apps/get-started/enable-your-device-for-development\n",
      "  warnings.warn(message)\n"
     ]
    },
    {
     "data": {
      "application/vnd.jupyter.widget-view+json": {
       "model_id": "f92f5224975045aaa2e0127b9fc8a2f6",
       "version_major": 2,
       "version_minor": 0
      },
      "text/plain": [
       "Downloading spiece.model:   0%|          | 0.00/1.91M [00:00<?, ?B/s]"
      ]
     },
     "metadata": {},
     "output_type": "display_data"
    },
    {
     "data": {
      "application/vnd.jupyter.widget-view+json": {
       "model_id": "b1a8843596e3495998fb0a342215cc7b",
       "version_major": 2,
       "version_minor": 0
      },
      "text/plain": [
       "Downloading (…)cial_tokens_map.json:   0%|          | 0.00/1.34k [00:00<?, ?B/s]"
      ]
     },
     "metadata": {},
     "output_type": "display_data"
    },
    {
     "data": {
      "application/vnd.jupyter.widget-view+json": {
       "model_id": "8b7a683f248a4955a4c834a2437fdec4",
       "version_major": 2,
       "version_minor": 0
      },
      "text/plain": [
       "Downloading (…)lve/main/config.json:   0%|          | 0.00/1.27k [00:00<?, ?B/s]"
      ]
     },
     "metadata": {},
     "output_type": "display_data"
    },
    {
     "data": {
      "application/vnd.jupyter.widget-view+json": {
       "model_id": "4eac3b8c4e9749a3aa886659418aff08",
       "version_major": 2,
       "version_minor": 0
      },
      "text/plain": [
       "Downloading model.safetensors:   0%|          | 0.00/2.28G [00:00<?, ?B/s]"
      ]
     },
     "metadata": {},
     "output_type": "display_data"
    },
    {
     "name": "stderr",
     "output_type": "stream",
     "text": [
      "Some weights of PegasusForConditionalGeneration were not initialized from the model checkpoint at human-centered-summarization/financial-summarization-pegasus and are newly initialized: ['model.decoder.embed_positions.weight', 'model.encoder.embed_positions.weight']\n",
      "You should probably TRAIN this model on a down-stream task to be able to use it for predictions and inference.\n"
     ]
    }
   ],
   "source": [
    "model_name = \"human-centered-summarization/financial-summarization-pegasus\"\n",
    "tokenizer = PegasusTokenizer.from_pretrained(model_name)\n",
    "model = PegasusForConditionalGeneration.from_pretrained(model_name)"
   ]
  },
  {
   "cell_type": "markdown",
   "metadata": {},
   "source": [
    "# 3. Summarize a Single Article"
   ]
  },
  {
   "cell_type": "code",
   "execution_count": 5,
   "metadata": {},
   "outputs": [],
   "source": [
    "url = \"https://au.finance.yahoo.com/news/china-restricting-tesla-use-uncovers-a-significant-challenge-for-elon-musk-expert-161921664.html\"\n",
    "r = requests.get(url)\n",
    "soup = BeautifulSoup(r.text, 'html.parser')\n",
    "paragraphs = soup.find_all('p')"
   ]
  },
  {
   "cell_type": "code",
   "execution_count": 6,
   "metadata": {},
   "outputs": [
    {
     "data": {
      "text/plain": [
       "'Thank you for your patience.'"
      ]
     },
     "execution_count": 6,
     "metadata": {},
     "output_type": "execute_result"
    }
   ],
   "source": [
    "paragraphs[0].text"
   ]
  },
  {
   "cell_type": "code",
   "execution_count": 7,
   "metadata": {},
   "outputs": [],
   "source": [
    "text = [paragraph.text for paragraph in paragraphs]\n",
    "words = ' '.join(text).split(' ')[:400]\n",
    "ARTICLE = ' '.join(words)"
   ]
  },
  {
   "cell_type": "code",
   "execution_count": 8,
   "metadata": {},
   "outputs": [
    {
     "data": {
      "text/plain": [
       "'Thank you for your patience. Our engineers are working quickly to resolve the issue.'"
      ]
     },
     "execution_count": 8,
     "metadata": {},
     "output_type": "execute_result"
    }
   ],
   "source": [
    "ARTICLE"
   ]
  },
  {
   "cell_type": "code",
   "execution_count": 9,
   "metadata": {},
   "outputs": [],
   "source": [
    "input_ids = tokenizer.encode(ARTICLE, return_tensors='pt')\n",
    "output = model.generate(input_ids, max_length=55, num_beams=5, early_stopping=True)\n",
    "summary = tokenizer.decode(output[0], skip_special_tokens=True)"
   ]
  },
  {
   "cell_type": "code",
   "execution_count": 10,
   "metadata": {},
   "outputs": [
    {
     "data": {
      "text/plain": [
       "'We are aware of the issue and are working to resolve it.'"
      ]
     },
     "execution_count": 10,
     "metadata": {},
     "output_type": "execute_result"
    }
   ],
   "source": [
    "summary"
   ]
  },
  {
   "cell_type": "markdown",
   "metadata": {},
   "source": [
    "# 4. Building a News and Sentiment Pipeline"
   ]
  },
  {
   "cell_type": "code",
   "execution_count": 11,
   "metadata": {},
   "outputs": [],
   "source": [
    "monitored_tickers = ['GME', 'TSLA', 'BTC']"
   ]
  },
  {
   "cell_type": "markdown",
   "metadata": {},
   "source": [
    "## 4.1. Search for Stock News using Google and Yahoo Finance"
   ]
  },
  {
   "cell_type": "code",
   "execution_count": 12,
   "metadata": {},
   "outputs": [],
   "source": [
    "def search_for_stock_news_urls(ticker):\n",
    "    search_url = \"https://www.google.com/search?q=yahoo+finance+{}&tbm=nws\".format(ticker)\n",
    "    r = requests.get(search_url)\n",
    "    soup = BeautifulSoup(r.text, 'html.parser')\n",
    "    atags = soup.find_all('a')\n",
    "    hrefs = [link['href'] for link in atags]\n",
    "    return hrefs "
   ]
  },
  {
   "cell_type": "code",
   "execution_count": 13,
   "metadata": {
    "collapsed": true
   },
   "outputs": [
    {
     "data": {
      "text/plain": [
       "{'GME': ['/?sa=X&ved=0ahUKEwiy9prU8_yBAxVBKrkGHSrAAuQQOwgC',\n",
       "  '/search?q=yahoo+finance+GME&tbm=nws&sca_esv=573962864&ie=UTF-8&gbv=1&sei=6WUuZfJdwdTk5Q-qgIugDg',\n",
       "  '/search?q=yahoo+finance+GME&sca_esv=573962864&ie=UTF-8&source=lnms&sa=X&ved=0ahUKEwiy9prU8_yBAxVBKrkGHSrAAuQQ_AUIBSgA',\n",
       "  '/search?q=yahoo+finance+GME&sca_esv=573962864&ie=UTF-8&tbm=vid&source=lnms&sa=X&ved=0ahUKEwiy9prU8_yBAxVBKrkGHSrAAuQQ_AUIBygC',\n",
       "  '/search?q=yahoo+finance+GME&sca_esv=573962864&ie=UTF-8&tbm=bks&source=lnms&sa=X&ved=0ahUKEwiy9prU8_yBAxVBKrkGHSrAAuQQ_AUICCgD',\n",
       "  '/search?q=yahoo+finance+GME&sca_esv=573962864&ie=UTF-8&tbm=isch&source=lnms&sa=X&ved=0ahUKEwiy9prU8_yBAxVBKrkGHSrAAuQQ_AUICSgE',\n",
       "  'https://maps.google.com/maps?q=yahoo+finance+GME&um=1&ie=UTF-8&sa=X&ved=0ahUKEwiy9prU8_yBAxVBKrkGHSrAAuQQ_AUICigF',\n",
       "  '/search?q=yahoo+finance+GME&sca_esv=573962864&ie=UTF-8&tbm=shop&source=lnms&sa=X&ved=0ahUKEwiy9prU8_yBAxVBKrkGHSrAAuQQ_AUICygG',\n",
       "  '/advanced_search',\n",
       "  '/search?q=yahoo+finance+GME&sca_esv=573962864&ie=UTF-8&tbm=nws&source=lnt&tbs=qdr:h&sa=X&ved=0ahUKEwiy9prU8_yBAxVBKrkGHSrAAuQQpwUIDQ',\n",
       "  '/search?q=yahoo+finance+GME&sca_esv=573962864&ie=UTF-8&tbm=nws&source=lnt&tbs=qdr:d&sa=X&ved=0ahUKEwiy9prU8_yBAxVBKrkGHSrAAuQQpwUIDg',\n",
       "  '/search?q=yahoo+finance+GME&sca_esv=573962864&ie=UTF-8&tbm=nws&source=lnt&tbs=qdr:w&sa=X&ved=0ahUKEwiy9prU8_yBAxVBKrkGHSrAAuQQpwUIDw',\n",
       "  '/search?q=yahoo+finance+GME&sca_esv=573962864&ie=UTF-8&tbm=nws&source=lnt&tbs=qdr:m&sa=X&ved=0ahUKEwiy9prU8_yBAxVBKrkGHSrAAuQQpwUIEA',\n",
       "  '/search?q=yahoo+finance+GME&sca_esv=573962864&ie=UTF-8&tbm=nws&source=lnt&tbs=qdr:y&sa=X&ved=0ahUKEwiy9prU8_yBAxVBKrkGHSrAAuQQpwUIEQ',\n",
       "  '/search?q=yahoo+finance+GME&sca_esv=573962864&ie=UTF-8&tbm=nws&source=lnt&tbs=ar:1&sa=X&ved=0ahUKEwiy9prU8_yBAxVBKrkGHSrAAuQQpwUIEg',\n",
       "  '/search?q=yahoo+finance+GME&sca_esv=573962864&ie=UTF-8&tbm=nws&source=lnt&tbs=sbd:1&sa=X&ved=0ahUKEwiy9prU8_yBAxVBKrkGHSrAAuQQpwUIFA',\n",
       "  '/url?q=https://investorplace.com/2023/10/gme-stock-is-headed-for-zero-even-with-ryan-cohen-in-the-ceo-seat/&sa=U&ved=2ahUKEwiy9prU8_yBAxVBKrkGHSrAAuQQxfQBegQIARAC&usg=AOvVaw1FkEPe-tS-Ddpt8chbkmmq',\n",
       "  '/url?q=https://www.marketwatch.com/data-news/gamestop-corp-cl-a-stock-underperforms-monday-when-compared-to-competitors-9d618c15-f2db90be2f39&sa=U&ved=2ahUKEwiy9prU8_yBAxVBKrkGHSrAAuQQxfQBegQICRAC&usg=AOvVaw3l7zbLQUJ9Mu0PpFqFOtK9',\n",
       "  '/url?q=https://fortune.com/2023/09/28/gamestop-names-ryan-cohen-ceo-meme-stock-chewy-founder/&sa=U&ved=2ahUKEwiy9prU8_yBAxVBKrkGHSrAAuQQxfQBegQIAxAC&usg=AOvVaw0-QWx5PuSHaM2dim_yrtuP',\n",
       "  '/url?q=https://www.vox.com/money/2023/9/15/23873474/dumb-money-gamestop-stock-keith-gill-melvin-capital-review&sa=U&ved=2ahUKEwiy9prU8_yBAxVBKrkGHSrAAuQQxfQBegQIAhAC&usg=AOvVaw2LjEY8WYC6BisG6uDlP34o',\n",
       "  '/url?q=https://www.theatlantic.com/culture/archive/2023/09/dumb-money-movie-review/675419/&sa=U&ved=2ahUKEwiy9prU8_yBAxVBKrkGHSrAAuQQxfQBegQIBxAC&usg=AOvVaw1OPURKFxLAZ4rjW6KEkTYk',\n",
       "  '/url?q=https://www.wsj.com/articles/the-lessons-of-dumb-money-gamestop-stock-craze-movie-daa0d0bf&sa=U&ved=2ahUKEwiy9prU8_yBAxVBKrkGHSrAAuQQxfQBegQIABAC&usg=AOvVaw1jJ3WUsMj8KM7QfiwIfuVp',\n",
       "  '/url?q=https://www.cnbc.com/2023/09/28/gamestop-names-ryan-cohen-as-ceo-effective-immediately.html&sa=U&ved=2ahUKEwiy9prU8_yBAxVBKrkGHSrAAuQQxfQBegQIBhAC&usg=AOvVaw1qN-rLXfLwq6L7NfbUEYIO',\n",
       "  '/url?q=https://www.barrons.com/articles/gamestop-stock-price-ryan-cohen-aa31dd8b&sa=U&ved=2ahUKEwiy9prU8_yBAxVBKrkGHSrAAuQQxfQBegQIBRAC&usg=AOvVaw2k0Su0h4cQ_Td5DSqml_OG',\n",
       "  '/url?q=https://www.cnbc.com/2023/09/15/heres-where-amc-and-gamestop-are-now-as-dumb-money-hits-theaters.html&sa=U&ved=2ahUKEwiy9prU8_yBAxVBKrkGHSrAAuQQxfQBegQICBAC&usg=AOvVaw17mZcFUEJFvp997CtUCO6p',\n",
       "  '/url?q=https://finance.yahoo.com/news/why-gamestop-gme-down-22-153004926.html&sa=U&ved=2ahUKEwiy9prU8_yBAxVBKrkGHSrAAuQQxfQBegQIBBAC&usg=AOvVaw3xfjkj9mPLTOwO3Z346wc7',\n",
       "  '/search?q=yahoo+finance+GME&sca_esv=573962864&ie=UTF-8&tbm=nws&ei=6WUuZfJdwdTk5Q-qgIugDg&start=10&sa=N',\n",
       "  '/url?q=https://support.google.com/websearch%3Fp%3Dws_settings_location%26hl%3Den-IN&opi=89978449&sa=U&ved=0ahUKEwiy9prU8_yBAxVBKrkGHSrAAuQQty4IUw&usg=AOvVaw1YSOXAKRSTdq0MfLWlV0M1',\n",
       "  '/url?q=https://accounts.google.com/ServiceLogin%3Fcontinue%3Dhttps://www.google.com/search%253Fq%253Dyahoo%252Bfinance%252BGME%2526tbm%253Dnws%26hl%3Den&opi=89978449&sa=U&ved=0ahUKEwiy9prU8_yBAxVBKrkGHSrAAuQQxs8CCFQ&usg=AOvVaw317geTpDsPrXLxmek3ckkF',\n",
       "  'https://www.google.com/preferences?hl=en-IN&fg=1&sa=X&ved=0ahUKEwiy9prU8_yBAxVBKrkGHSrAAuQQ5fUCCFU',\n",
       "  'https://policies.google.com/privacy?hl=en-IN&fg=1',\n",
       "  'https://policies.google.com/terms?hl=en-IN&fg=1',\n",
       "  '/setprefs?hl=en&prev=https://www.google.com/search?q%3Dyahoo%2Bfinance%2BGME%26tbm%3Dnws%26pccc%3D1&sig=0_7AU7YMI0FKjlsT5mbVrqoY_y1gw%3D&cs=2&sa=X&ved=0ahUKEwiy9prU8_yBAxVBKrkGHSrAAuQQjcAJCFY'],\n",
       " 'TSLA': ['/?sa=X&ved=0ahUKEwjmmtfU8_yBAxXhH7kGHdfNDhUQOwgC',\n",
       "  '/search?q=yahoo+finance+TSLA&tbm=nws&sca_esv=573962864&ie=UTF-8&gbv=1&sei=6WUuZaaCPeG_5OUP15u7qAE',\n",
       "  '/search?q=yahoo+finance+TSLA&sca_esv=573962864&ie=UTF-8&source=lnms&sa=X&ved=0ahUKEwjmmtfU8_yBAxXhH7kGHdfNDhUQ_AUIBSgA',\n",
       "  '/search?q=yahoo+finance+TSLA&sca_esv=573962864&ie=UTF-8&tbm=vid&source=lnms&sa=X&ved=0ahUKEwjmmtfU8_yBAxXhH7kGHdfNDhUQ_AUIBygC',\n",
       "  '/search?q=yahoo+finance+TSLA&sca_esv=573962864&ie=UTF-8&tbm=bks&source=lnms&sa=X&ved=0ahUKEwjmmtfU8_yBAxXhH7kGHdfNDhUQ_AUICCgD',\n",
       "  '/search?q=yahoo+finance+TSLA&sca_esv=573962864&ie=UTF-8&tbm=isch&source=lnms&sa=X&ved=0ahUKEwjmmtfU8_yBAxXhH7kGHdfNDhUQ_AUICSgE',\n",
       "  'https://maps.google.com/maps?q=yahoo+finance+TSLA&um=1&ie=UTF-8&sa=X&ved=0ahUKEwjmmtfU8_yBAxXhH7kGHdfNDhUQ_AUICigF',\n",
       "  '/search?q=yahoo+finance+TSLA&sca_esv=573962864&ie=UTF-8&tbm=shop&source=lnms&sa=X&ved=0ahUKEwjmmtfU8_yBAxXhH7kGHdfNDhUQ_AUICygG',\n",
       "  '/advanced_search',\n",
       "  '/search?q=yahoo+finance+TSLA&sca_esv=573962864&ie=UTF-8&tbm=nws&source=lnt&tbs=qdr:h&sa=X&ved=0ahUKEwjmmtfU8_yBAxXhH7kGHdfNDhUQpwUIDQ',\n",
       "  '/search?q=yahoo+finance+TSLA&sca_esv=573962864&ie=UTF-8&tbm=nws&source=lnt&tbs=qdr:d&sa=X&ved=0ahUKEwjmmtfU8_yBAxXhH7kGHdfNDhUQpwUIDg',\n",
       "  '/search?q=yahoo+finance+TSLA&sca_esv=573962864&ie=UTF-8&tbm=nws&source=lnt&tbs=qdr:w&sa=X&ved=0ahUKEwjmmtfU8_yBAxXhH7kGHdfNDhUQpwUIDw',\n",
       "  '/search?q=yahoo+finance+TSLA&sca_esv=573962864&ie=UTF-8&tbm=nws&source=lnt&tbs=qdr:m&sa=X&ved=0ahUKEwjmmtfU8_yBAxXhH7kGHdfNDhUQpwUIEA',\n",
       "  '/search?q=yahoo+finance+TSLA&sca_esv=573962864&ie=UTF-8&tbm=nws&source=lnt&tbs=qdr:y&sa=X&ved=0ahUKEwjmmtfU8_yBAxXhH7kGHdfNDhUQpwUIEQ',\n",
       "  '/search?q=yahoo+finance+TSLA&sca_esv=573962864&ie=UTF-8&tbm=nws&source=lnt&tbs=ar:1&sa=X&ved=0ahUKEwjmmtfU8_yBAxXhH7kGHdfNDhUQpwUIEg',\n",
       "  '/search?q=yahoo+finance+TSLA&sca_esv=573962864&ie=UTF-8&tbm=nws&source=lnt&tbs=sbd:1&sa=X&ved=0ahUKEwjmmtfU8_yBAxXhH7kGHdfNDhUQpwUIFA',\n",
       "  '/url?q=https://finance.yahoo.com/news/tesla-netflix-and-banks-highlight-earnings-rush-the-week-ahead-140003751.html&sa=U&ved=2ahUKEwjmmtfU8_yBAxXhH7kGHdfNDhUQxfQBegQIABAC&usg=AOvVaw2zKuencOE76NzA_EuOQdVH',\n",
       "  '/url?q=https://m.timesofindia.com/auto/news/tesla-earnings-investors-watching-margins-deliveries-self-driving/articleshow/104469375.cms&sa=U&ved=2ahUKEwjmmtfU8_yBAxXhH7kGHdfNDhUQxfQBegQICRAC&usg=AOvVaw0WHSMbaNNEeAh-laaXNksA',\n",
       "  '/url?q=https://www.businessinsider.com/tesla-owners-bill-battery-damaged-ev-scotland-weather-2023-10&sa=U&ved=2ahUKEwjmmtfU8_yBAxXhH7kGHdfNDhUQxfQBegQIBhAC&usg=AOvVaw0TZ-Rg4jJSASiM5ScxGi0t',\n",
       "  '/url?q=https://www.investing.com/news/stock-market-news/earnings-season-escalates-with-tesla-major-banks-set-to-report-93CH-3199968&sa=U&ved=2ahUKEwjmmtfU8_yBAxXhH7kGHdfNDhUQxfQBegQIBRAC&usg=AOvVaw1qT8qn-EQVGzBZy9ErqUHK',\n",
       "  '/url?q=https://www.teslarati.com/us-market-share-evs-q3/&sa=U&ved=2ahUKEwjmmtfU8_yBAxXhH7kGHdfNDhUQxfQBegQIBxAC&usg=AOvVaw0tfkTXDuzHhKiqJjYddjiZ',\n",
       "  '/url?q=https://www.latestly.com/auto/tesla-automotive-company-launches-official-api-documentation-to-support-third-party-apps-report-5490602.html&sa=U&ved=2ahUKEwjmmtfU8_yBAxXhH7kGHdfNDhUQxfQBegQIAxAC&usg=AOvVaw0Ovp5zCvzyj9vJl4hMT0DF',\n",
       "  '/url?q=https://www.benzinga.com/markets/equities/23/10/35255185/elon-musk-exposes-israel-hamas-wars-impact-on-xs-ad-revenues&sa=U&ved=2ahUKEwjmmtfU8_yBAxXhH7kGHdfNDhUQxfQBegQIAhAC&usg=AOvVaw37QreLp7GsXo7oyIMrRcxC',\n",
       "  '/url?q=https://finance.yahoo.com/video/tesla-releases-sells-cyberbeer-beverage-155254530.html&sa=U&ved=2ahUKEwjmmtfU8_yBAxXhH7kGHdfNDhUQxfQBegQIARAC&usg=AOvVaw0Lh2YghElYquEs3B_Z-_c2',\n",
       "  '/url?q=https://www.businessinsider.com/how-elon-musk-steve-jobs-similar-different-management-style-biography-walter-isaacson&sa=U&ved=2ahUKEwjmmtfU8_yBAxXhH7kGHdfNDhUQxfQBegQICBAC&usg=AOvVaw29alBWzqXIshvNlmQFRKf1',\n",
       "  '/url?q=https://www.latestly.com/quickly/auto/electric-car-company-tesla-launches-new-api-documentation-to-support-third-party-apps-5490602.html&sa=U&ved=2ahUKEwjmmtfU8_yBAxXhH7kGHdfNDhUQxfQBegQIBBAC&usg=AOvVaw3SsCF6gtPPx9nf6sofHoCg',\n",
       "  '/search?q=yahoo+finance+TSLA&sca_esv=573962864&ie=UTF-8&tbm=nws&ei=6WUuZaaCPeG_5OUP15u7qAE&start=10&sa=N',\n",
       "  '/url?q=https://support.google.com/websearch%3Fp%3Dws_settings_location%26hl%3Den-IN&opi=89978449&sa=U&ved=0ahUKEwjmmtfU8_yBAxXhH7kGHdfNDhUQty4IUw&usg=AOvVaw2OcC73IQ5kj4CCYMmHag_2',\n",
       "  '/url?q=https://accounts.google.com/ServiceLogin%3Fcontinue%3Dhttps://www.google.com/search%253Fq%253Dyahoo%252Bfinance%252BTSLA%2526tbm%253Dnws%26hl%3Den&opi=89978449&sa=U&ved=0ahUKEwjmmtfU8_yBAxXhH7kGHdfNDhUQxs8CCFQ&usg=AOvVaw11R_qsvXmFH5sS3KMteBqY',\n",
       "  'https://www.google.com/preferences?hl=en-IN&fg=1&sa=X&ved=0ahUKEwjmmtfU8_yBAxXhH7kGHdfNDhUQ5fUCCFU',\n",
       "  'https://policies.google.com/privacy?hl=en-IN&fg=1',\n",
       "  'https://policies.google.com/terms?hl=en-IN&fg=1',\n",
       "  '/setprefs?hl=en&prev=https://www.google.com/search?q%3Dyahoo%2Bfinance%2BTSLA%26tbm%3Dnws%26pccc%3D1&sig=0_Fp7cEL7HjZ075rQp3PuZnhde460%3D&cs=2&sa=X&ved=0ahUKEwjmmtfU8_yBAxXhH7kGHdfNDhUQjcAJCFY'],\n",
       " 'BTC': ['/?sa=X&ved=0ahUKEwjNjZ7V8_yBAxWVIrkGHcfACMgQOwgC',\n",
       "  '/search?q=yahoo+finance+BTC&tbm=nws&sca_esv=573962864&ie=UTF-8&gbv=1&sei=62UuZY3sCZXF5OUPx4GjwAw',\n",
       "  '/search?q=yahoo+finance+BTC&sca_esv=573962864&ie=UTF-8&source=lnms&sa=X&ved=0ahUKEwjNjZ7V8_yBAxWVIrkGHcfACMgQ_AUIBSgA',\n",
       "  '/search?q=yahoo+finance+BTC&sca_esv=573962864&ie=UTF-8&tbm=vid&source=lnms&sa=X&ved=0ahUKEwjNjZ7V8_yBAxWVIrkGHcfACMgQ_AUIBygC',\n",
       "  '/search?q=yahoo+finance+BTC&sca_esv=573962864&ie=UTF-8&tbm=bks&source=lnms&sa=X&ved=0ahUKEwjNjZ7V8_yBAxWVIrkGHcfACMgQ_AUICCgD',\n",
       "  '/search?q=yahoo+finance+BTC&sca_esv=573962864&ie=UTF-8&tbm=isch&source=lnms&sa=X&ved=0ahUKEwjNjZ7V8_yBAxWVIrkGHcfACMgQ_AUICSgE',\n",
       "  'https://maps.google.com/maps?q=yahoo+finance+BTC&um=1&ie=UTF-8&sa=X&ved=0ahUKEwjNjZ7V8_yBAxWVIrkGHcfACMgQ_AUICigF',\n",
       "  '/search?q=yahoo+finance+BTC&sca_esv=573962864&ie=UTF-8&tbm=shop&source=lnms&sa=X&ved=0ahUKEwjNjZ7V8_yBAxWVIrkGHcfACMgQ_AUICygG',\n",
       "  '/advanced_search',\n",
       "  '/search?q=yahoo+finance+BTC&sca_esv=573962864&ie=UTF-8&tbm=nws&source=lnt&tbs=qdr:h&sa=X&ved=0ahUKEwjNjZ7V8_yBAxWVIrkGHcfACMgQpwUIDQ',\n",
       "  '/search?q=yahoo+finance+BTC&sca_esv=573962864&ie=UTF-8&tbm=nws&source=lnt&tbs=qdr:d&sa=X&ved=0ahUKEwjNjZ7V8_yBAxWVIrkGHcfACMgQpwUIDg',\n",
       "  '/search?q=yahoo+finance+BTC&sca_esv=573962864&ie=UTF-8&tbm=nws&source=lnt&tbs=qdr:w&sa=X&ved=0ahUKEwjNjZ7V8_yBAxWVIrkGHcfACMgQpwUIDw',\n",
       "  '/search?q=yahoo+finance+BTC&sca_esv=573962864&ie=UTF-8&tbm=nws&source=lnt&tbs=qdr:m&sa=X&ved=0ahUKEwjNjZ7V8_yBAxWVIrkGHcfACMgQpwUIEA',\n",
       "  '/search?q=yahoo+finance+BTC&sca_esv=573962864&ie=UTF-8&tbm=nws&source=lnt&tbs=qdr:y&sa=X&ved=0ahUKEwjNjZ7V8_yBAxWVIrkGHcfACMgQpwUIEQ',\n",
       "  '/search?q=yahoo+finance+BTC&sca_esv=573962864&ie=UTF-8&tbm=nws&source=lnt&tbs=ar:1&sa=X&ved=0ahUKEwjNjZ7V8_yBAxWVIrkGHcfACMgQpwUIEg',\n",
       "  '/search?q=yahoo+finance+BTC&sca_esv=573962864&ie=UTF-8&tbm=nws&source=lnt&tbs=sbd:1&sa=X&ved=0ahUKEwjNjZ7V8_yBAxWVIrkGHcfACMgQpwUIFA',\n",
       "  '/url?q=https://finance.yahoo.com/video/spot-bitcoin-etf-tea-leaves-204253086.html&sa=U&ved=2ahUKEwjNjZ7V8_yBAxWVIrkGHcfACMgQxfQBegQIBBAC&usg=AOvVaw2E5VTOrckKWXE9aYn1_ueH',\n",
       "  '/url?q=https://finance.yahoo.com/news/bitcoin-etf-enthusiasts-hit-fake-200702961.html&sa=U&ved=2ahUKEwjNjZ7V8_yBAxWVIrkGHcfACMgQxfQBegQICRAC&usg=AOvVaw3dh42oQHfLMjf52fqiLK7O',\n",
       "  '/url?q=https://finance.yahoo.com/news/fuss-bitcoin-etfs-185142663.html&sa=U&ved=2ahUKEwjNjZ7V8_yBAxWVIrkGHcfACMgQxfQBegQIARAC&usg=AOvVaw2dP3T6Vcp9M_OH91mVaOq4',\n",
       "  '/url?q=https://www.fxstreet.com/cryptocurrencies/news/grayscale-says-it-is-operationally-ready-for-etf-as-gbtc-discount-narrows-202310160537&sa=U&ved=2ahUKEwjNjZ7V8_yBAxWVIrkGHcfACMgQxfQBegQIAhAC&usg=AOvVaw0zYX_7QUy6A77bWOdzAjUx',\n",
       "  '/url?q=https://finance.yahoo.com/news/mr-bitcoin-down-big-jim-150833663.html&sa=U&ved=2ahUKEwjNjZ7V8_yBAxWVIrkGHcfACMgQxfQBegQIBxAC&usg=AOvVaw1mQ48aP2V1vc9mrcHr73W5',\n",
       "  '/url?q=https://finance.yahoo.com/news/bitcoin-mining-industry-crucible-moment-163123240.html&sa=U&ved=2ahUKEwjNjZ7V8_yBAxWVIrkGHcfACMgQxfQBegQIAxAC&usg=AOvVaw0wxt_4lE1TysVWrbzl9trb',\n",
       "  '/url?q=https://finance.yahoo.com/news/bitcoin-sinks-nearly-3-26-210130103.html&sa=U&ved=2ahUKEwjNjZ7V8_yBAxWVIrkGHcfACMgQxfQBegQIABAC&usg=AOvVaw21lPlAHVkSmT1Tlb7qfGY1',\n",
       "  '/url?q=https://finance.yahoo.com/news/bitcoin-better-digital-gold-matrixport-094912488.html&sa=U&ved=2ahUKEwjNjZ7V8_yBAxWVIrkGHcfACMgQxfQBegQIBRAC&usg=AOvVaw2n4QuRwqfIVEPFYhdR09Hm',\n",
       "  '/url?q=https://finance.yahoo.com/news/bitcoin-fundamentally-different-other-cryptocurrencies-103529881.html&sa=U&ved=2ahUKEwjNjZ7V8_yBAxWVIrkGHcfACMgQxfQBegQICBAC&usg=AOvVaw3iw2rRA9ZxCWcOYn5GMaky',\n",
       "  '/url?q=https://uk.finance.yahoo.com/news/bitcoin-price-rally-blackrock-093152634.html&sa=U&ved=2ahUKEwjNjZ7V8_yBAxWVIrkGHcfACMgQxfQBegQIBhAC&usg=AOvVaw18YVuRJ0rD4JNeL99mTJjj',\n",
       "  '/search?q=yahoo+finance+BTC&sca_esv=573962864&ie=UTF-8&tbm=nws&ei=62UuZY3sCZXF5OUPx4GjwAw&start=10&sa=N',\n",
       "  '/url?q=https://support.google.com/websearch%3Fp%3Dws_settings_location%26hl%3Den-IN&opi=89978449&sa=U&ved=0ahUKEwjNjZ7V8_yBAxWVIrkGHcfACMgQty4IUw&usg=AOvVaw3UurFHE-337XDpFEchBAgO',\n",
       "  '/url?q=https://accounts.google.com/ServiceLogin%3Fcontinue%3Dhttps://www.google.com/search%253Fq%253Dyahoo%252Bfinance%252BBTC%2526tbm%253Dnws%26hl%3Den&opi=89978449&sa=U&ved=0ahUKEwjNjZ7V8_yBAxWVIrkGHcfACMgQxs8CCFQ&usg=AOvVaw2zLoqOTevRefPIQH99t8xF',\n",
       "  'https://www.google.com/preferences?hl=en-IN&fg=1&sa=X&ved=0ahUKEwjNjZ7V8_yBAxWVIrkGHcfACMgQ5fUCCFU',\n",
       "  'https://policies.google.com/privacy?hl=en-IN&fg=1',\n",
       "  'https://policies.google.com/terms?hl=en-IN&fg=1',\n",
       "  '/setprefs?hl=en&prev=https://www.google.com/search?q%3Dyahoo%2Bfinance%2BBTC%26tbm%3Dnws%26pccc%3D1&sig=0_uuH-_KvueKE6FaTWcK1lmk5RA5E%3D&cs=2&sa=X&ved=0ahUKEwjNjZ7V8_yBAxWVIrkGHcfACMgQjcAJCFY']}"
      ]
     },
     "execution_count": 13,
     "metadata": {},
     "output_type": "execute_result"
    }
   ],
   "source": [
    "raw_urls = {ticker:search_for_stock_news_urls(ticker) for ticker in monitored_tickers}\n",
    "raw_urls"
   ]
  },
  {
   "cell_type": "code",
   "execution_count": 14,
   "metadata": {
    "collapsed": true
   },
   "outputs": [
    {
     "data": {
      "text/plain": [
       "['/?sa=X&ved=0ahUKEwiy9prU8_yBAxVBKrkGHSrAAuQQOwgC',\n",
       " '/search?q=yahoo+finance+GME&tbm=nws&sca_esv=573962864&ie=UTF-8&gbv=1&sei=6WUuZfJdwdTk5Q-qgIugDg',\n",
       " '/search?q=yahoo+finance+GME&sca_esv=573962864&ie=UTF-8&source=lnms&sa=X&ved=0ahUKEwiy9prU8_yBAxVBKrkGHSrAAuQQ_AUIBSgA',\n",
       " '/search?q=yahoo+finance+GME&sca_esv=573962864&ie=UTF-8&tbm=vid&source=lnms&sa=X&ved=0ahUKEwiy9prU8_yBAxVBKrkGHSrAAuQQ_AUIBygC',\n",
       " '/search?q=yahoo+finance+GME&sca_esv=573962864&ie=UTF-8&tbm=bks&source=lnms&sa=X&ved=0ahUKEwiy9prU8_yBAxVBKrkGHSrAAuQQ_AUICCgD',\n",
       " '/search?q=yahoo+finance+GME&sca_esv=573962864&ie=UTF-8&tbm=isch&source=lnms&sa=X&ved=0ahUKEwiy9prU8_yBAxVBKrkGHSrAAuQQ_AUICSgE',\n",
       " 'https://maps.google.com/maps?q=yahoo+finance+GME&um=1&ie=UTF-8&sa=X&ved=0ahUKEwiy9prU8_yBAxVBKrkGHSrAAuQQ_AUICigF',\n",
       " '/search?q=yahoo+finance+GME&sca_esv=573962864&ie=UTF-8&tbm=shop&source=lnms&sa=X&ved=0ahUKEwiy9prU8_yBAxVBKrkGHSrAAuQQ_AUICygG',\n",
       " '/advanced_search',\n",
       " '/search?q=yahoo+finance+GME&sca_esv=573962864&ie=UTF-8&tbm=nws&source=lnt&tbs=qdr:h&sa=X&ved=0ahUKEwiy9prU8_yBAxVBKrkGHSrAAuQQpwUIDQ',\n",
       " '/search?q=yahoo+finance+GME&sca_esv=573962864&ie=UTF-8&tbm=nws&source=lnt&tbs=qdr:d&sa=X&ved=0ahUKEwiy9prU8_yBAxVBKrkGHSrAAuQQpwUIDg',\n",
       " '/search?q=yahoo+finance+GME&sca_esv=573962864&ie=UTF-8&tbm=nws&source=lnt&tbs=qdr:w&sa=X&ved=0ahUKEwiy9prU8_yBAxVBKrkGHSrAAuQQpwUIDw',\n",
       " '/search?q=yahoo+finance+GME&sca_esv=573962864&ie=UTF-8&tbm=nws&source=lnt&tbs=qdr:m&sa=X&ved=0ahUKEwiy9prU8_yBAxVBKrkGHSrAAuQQpwUIEA',\n",
       " '/search?q=yahoo+finance+GME&sca_esv=573962864&ie=UTF-8&tbm=nws&source=lnt&tbs=qdr:y&sa=X&ved=0ahUKEwiy9prU8_yBAxVBKrkGHSrAAuQQpwUIEQ',\n",
       " '/search?q=yahoo+finance+GME&sca_esv=573962864&ie=UTF-8&tbm=nws&source=lnt&tbs=ar:1&sa=X&ved=0ahUKEwiy9prU8_yBAxVBKrkGHSrAAuQQpwUIEg',\n",
       " '/search?q=yahoo+finance+GME&sca_esv=573962864&ie=UTF-8&tbm=nws&source=lnt&tbs=sbd:1&sa=X&ved=0ahUKEwiy9prU8_yBAxVBKrkGHSrAAuQQpwUIFA',\n",
       " '/url?q=https://investorplace.com/2023/10/gme-stock-is-headed-for-zero-even-with-ryan-cohen-in-the-ceo-seat/&sa=U&ved=2ahUKEwiy9prU8_yBAxVBKrkGHSrAAuQQxfQBegQIARAC&usg=AOvVaw1FkEPe-tS-Ddpt8chbkmmq',\n",
       " '/url?q=https://www.marketwatch.com/data-news/gamestop-corp-cl-a-stock-underperforms-monday-when-compared-to-competitors-9d618c15-f2db90be2f39&sa=U&ved=2ahUKEwiy9prU8_yBAxVBKrkGHSrAAuQQxfQBegQICRAC&usg=AOvVaw3l7zbLQUJ9Mu0PpFqFOtK9',\n",
       " '/url?q=https://fortune.com/2023/09/28/gamestop-names-ryan-cohen-ceo-meme-stock-chewy-founder/&sa=U&ved=2ahUKEwiy9prU8_yBAxVBKrkGHSrAAuQQxfQBegQIAxAC&usg=AOvVaw0-QWx5PuSHaM2dim_yrtuP',\n",
       " '/url?q=https://www.vox.com/money/2023/9/15/23873474/dumb-money-gamestop-stock-keith-gill-melvin-capital-review&sa=U&ved=2ahUKEwiy9prU8_yBAxVBKrkGHSrAAuQQxfQBegQIAhAC&usg=AOvVaw2LjEY8WYC6BisG6uDlP34o',\n",
       " '/url?q=https://www.theatlantic.com/culture/archive/2023/09/dumb-money-movie-review/675419/&sa=U&ved=2ahUKEwiy9prU8_yBAxVBKrkGHSrAAuQQxfQBegQIBxAC&usg=AOvVaw1OPURKFxLAZ4rjW6KEkTYk',\n",
       " '/url?q=https://www.wsj.com/articles/the-lessons-of-dumb-money-gamestop-stock-craze-movie-daa0d0bf&sa=U&ved=2ahUKEwiy9prU8_yBAxVBKrkGHSrAAuQQxfQBegQIABAC&usg=AOvVaw1jJ3WUsMj8KM7QfiwIfuVp',\n",
       " '/url?q=https://www.cnbc.com/2023/09/28/gamestop-names-ryan-cohen-as-ceo-effective-immediately.html&sa=U&ved=2ahUKEwiy9prU8_yBAxVBKrkGHSrAAuQQxfQBegQIBhAC&usg=AOvVaw1qN-rLXfLwq6L7NfbUEYIO',\n",
       " '/url?q=https://www.barrons.com/articles/gamestop-stock-price-ryan-cohen-aa31dd8b&sa=U&ved=2ahUKEwiy9prU8_yBAxVBKrkGHSrAAuQQxfQBegQIBRAC&usg=AOvVaw2k0Su0h4cQ_Td5DSqml_OG',\n",
       " '/url?q=https://www.cnbc.com/2023/09/15/heres-where-amc-and-gamestop-are-now-as-dumb-money-hits-theaters.html&sa=U&ved=2ahUKEwiy9prU8_yBAxVBKrkGHSrAAuQQxfQBegQICBAC&usg=AOvVaw17mZcFUEJFvp997CtUCO6p',\n",
       " '/url?q=https://finance.yahoo.com/news/why-gamestop-gme-down-22-153004926.html&sa=U&ved=2ahUKEwiy9prU8_yBAxVBKrkGHSrAAuQQxfQBegQIBBAC&usg=AOvVaw3xfjkj9mPLTOwO3Z346wc7',\n",
       " '/search?q=yahoo+finance+GME&sca_esv=573962864&ie=UTF-8&tbm=nws&ei=6WUuZfJdwdTk5Q-qgIugDg&start=10&sa=N',\n",
       " '/url?q=https://support.google.com/websearch%3Fp%3Dws_settings_location%26hl%3Den-IN&opi=89978449&sa=U&ved=0ahUKEwiy9prU8_yBAxVBKrkGHSrAAuQQty4IUw&usg=AOvVaw1YSOXAKRSTdq0MfLWlV0M1',\n",
       " '/url?q=https://accounts.google.com/ServiceLogin%3Fcontinue%3Dhttps://www.google.com/search%253Fq%253Dyahoo%252Bfinance%252BGME%2526tbm%253Dnws%26hl%3Den&opi=89978449&sa=U&ved=0ahUKEwiy9prU8_yBAxVBKrkGHSrAAuQQxs8CCFQ&usg=AOvVaw317geTpDsPrXLxmek3ckkF',\n",
       " 'https://www.google.com/preferences?hl=en-IN&fg=1&sa=X&ved=0ahUKEwiy9prU8_yBAxVBKrkGHSrAAuQQ5fUCCFU',\n",
       " 'https://policies.google.com/privacy?hl=en-IN&fg=1',\n",
       " 'https://policies.google.com/terms?hl=en-IN&fg=1',\n",
       " '/setprefs?hl=en&prev=https://www.google.com/search?q%3Dyahoo%2Bfinance%2BGME%26tbm%3Dnws%26pccc%3D1&sig=0_7AU7YMI0FKjlsT5mbVrqoY_y1gw%3D&cs=2&sa=X&ved=0ahUKEwiy9prU8_yBAxVBKrkGHSrAAuQQjcAJCFY']"
      ]
     },
     "execution_count": 14,
     "metadata": {},
     "output_type": "execute_result"
    }
   ],
   "source": [
    "raw_urls['GME']"
   ]
  },
  {
   "cell_type": "markdown",
   "metadata": {},
   "source": [
    "## 4.2. Strip out unwanted URLs"
   ]
  },
  {
   "cell_type": "code",
   "execution_count": 15,
   "metadata": {},
   "outputs": [],
   "source": [
    "import re"
   ]
  },
  {
   "cell_type": "code",
   "execution_count": 16,
   "metadata": {},
   "outputs": [],
   "source": [
    "exclude_list = ['maps', 'policies', 'preferences', 'accounts', 'support']"
   ]
  },
  {
   "cell_type": "code",
   "execution_count": 17,
   "metadata": {},
   "outputs": [],
   "source": [
    "def strip_unwanted_urls(urls, exclude_list):\n",
    "    val = []\n",
    "    for url in urls: \n",
    "        if 'https://' in url and not any(exclude_word in url for exclude_word in exclude_list):\n",
    "            res = re.findall(r'(https?://\\S+)', url)[0].split('&')[0]\n",
    "            val.append(res)\n",
    "    return list(set(val))"
   ]
  },
  {
   "cell_type": "code",
   "execution_count": 18,
   "metadata": {
    "collapsed": true
   },
   "outputs": [
    {
     "data": {
      "text/plain": [
       "{'GME': ['https://finance.yahoo.com/news/why-gamestop-gme-down-22-153004926.html',\n",
       "  'https://www.vox.com/money/2023/9/15/23873474/dumb-money-gamestop-stock-keith-gill-melvin-capital-review',\n",
       "  'https://www.wsj.com/articles/the-lessons-of-dumb-money-gamestop-stock-craze-movie-daa0d0bf',\n",
       "  'https://www.marketwatch.com/data-news/gamestop-corp-cl-a-stock-underperforms-monday-when-compared-to-competitors-9d618c15-f2db90be2f39',\n",
       "  'https://investorplace.com/2023/10/gme-stock-is-headed-for-zero-even-with-ryan-cohen-in-the-ceo-seat/',\n",
       "  'https://www.cnbc.com/2023/09/28/gamestop-names-ryan-cohen-as-ceo-effective-immediately.html',\n",
       "  'https://www.cnbc.com/2023/09/15/heres-where-amc-and-gamestop-are-now-as-dumb-money-hits-theaters.html',\n",
       "  'https://www.google.com/search?q%3Dyahoo%2Bfinance%2BGME%26tbm%3Dnws%26pccc%3D1',\n",
       "  'https://fortune.com/2023/09/28/gamestop-names-ryan-cohen-ceo-meme-stock-chewy-founder/',\n",
       "  'https://www.theatlantic.com/culture/archive/2023/09/dumb-money-movie-review/675419/',\n",
       "  'https://www.barrons.com/articles/gamestop-stock-price-ryan-cohen-aa31dd8b'],\n",
       " 'TSLA': ['https://www.businessinsider.com/how-elon-musk-steve-jobs-similar-different-management-style-biography-walter-isaacson',\n",
       "  'https://www.teslarati.com/us-market-share-evs-q3/',\n",
       "  'https://finance.yahoo.com/video/tesla-releases-sells-cyberbeer-beverage-155254530.html',\n",
       "  'https://www.investing.com/news/stock-market-news/earnings-season-escalates-with-tesla-major-banks-set-to-report-93CH-3199968',\n",
       "  'https://finance.yahoo.com/news/tesla-netflix-and-banks-highlight-earnings-rush-the-week-ahead-140003751.html',\n",
       "  'https://www.benzinga.com/markets/equities/23/10/35255185/elon-musk-exposes-israel-hamas-wars-impact-on-xs-ad-revenues',\n",
       "  'https://www.businessinsider.com/tesla-owners-bill-battery-damaged-ev-scotland-weather-2023-10',\n",
       "  'https://www.google.com/search?q%3Dyahoo%2Bfinance%2BTSLA%26tbm%3Dnws%26pccc%3D1',\n",
       "  'https://m.timesofindia.com/auto/news/tesla-earnings-investors-watching-margins-deliveries-self-driving/articleshow/104469375.cms'],\n",
       " 'BTC': ['https://uk.finance.yahoo.com/news/bitcoin-price-rally-blackrock-093152634.html',\n",
       "  'https://www.fxstreet.com/cryptocurrencies/news/grayscale-says-it-is-operationally-ready-for-etf-as-gbtc-discount-narrows-202310160537',\n",
       "  'https://finance.yahoo.com/news/mr-bitcoin-down-big-jim-150833663.html',\n",
       "  'https://finance.yahoo.com/news/bitcoin-sinks-nearly-3-26-210130103.html',\n",
       "  'https://finance.yahoo.com/news/bitcoin-mining-industry-crucible-moment-163123240.html',\n",
       "  'https://finance.yahoo.com/news/bitcoin-fundamentally-different-other-cryptocurrencies-103529881.html',\n",
       "  'https://finance.yahoo.com/news/fuss-bitcoin-etfs-185142663.html',\n",
       "  'https://www.google.com/search?q%3Dyahoo%2Bfinance%2BBTC%26tbm%3Dnws%26pccc%3D1',\n",
       "  'https://finance.yahoo.com/news/bitcoin-etf-enthusiasts-hit-fake-200702961.html',\n",
       "  'https://finance.yahoo.com/video/spot-bitcoin-etf-tea-leaves-204253086.html',\n",
       "  'https://finance.yahoo.com/news/bitcoin-better-digital-gold-matrixport-094912488.html']}"
      ]
     },
     "execution_count": 18,
     "metadata": {},
     "output_type": "execute_result"
    }
   ],
   "source": [
    "cleaned_urls = {ticker:strip_unwanted_urls(raw_urls[ticker], exclude_list) for ticker in monitored_tickers}\n",
    "cleaned_urls"
   ]
  },
  {
   "cell_type": "markdown",
   "metadata": {},
   "source": [
    "## 4.3. Search and Scrape Cleaned URLs"
   ]
  },
  {
   "cell_type": "code",
   "execution_count": 19,
   "metadata": {},
   "outputs": [],
   "source": [
    "def scrape_and_process(URLs):\n",
    "    ARTICLES = []\n",
    "    for url in URLs: \n",
    "        r = requests.get(url)\n",
    "        soup = BeautifulSoup(r.text, 'html.parser')\n",
    "        paragraphs = soup.find_all('p')\n",
    "        text = [paragraph.text for paragraph in paragraphs]\n",
    "        words = ' '.join(text).split(' ')[:350]\n",
    "        ARTICLE = ' '.join(words)\n",
    "        ARTICLES.append(ARTICLE)\n",
    "    return ARTICLES"
   ]
  },
  {
   "cell_type": "code",
   "execution_count": 20,
   "metadata": {},
   "outputs": [
    {
     "data": {
      "text/plain": [
       "{'GME': [\"It has been about a month since the last earnings report for GameStop (GME). Shares have lost about 22.1% in that time frame, underperforming the S&P 500. Will the recent negative trend continue leading up to its next earnings release, or is GameStop due for a breakout? Before we dive into how investors and analysts have reacted as of late, let's take a quick look at its most recent earnings report in order to get a better handle on the important catalysts. GameStop posted second-quarter fiscal 2023 results, delivering a narrower-than-expected loss per share and better-than-expected revenues. The top and bottom lines increased from their respective year-ago quarter’s reported figures. GameStop posted an adjusted loss of 3 cents per share in second-quarter fiscal 2023, narrower than the Zacks Consensus Estimate of a loss of 15 cents. The company had incurred an adjusted loss per share of 35 cents in the prior year quarter.GME reported net sales of $1,163.8 million, which surpassed the Zacks Consensus Estimate of $1,143 million. Also, the metric increased from $1,136 million reported in the year-ago fiscal quarter. Management highlighted that a significant software release and increased sales of new gaming hardware in international segments contributed to the top-line growth, partially offset by a decline in sales of collectibles.By sales mix, hardware and accessories sales inched up to $597 million from $596.4 million reported in the year-ago quarter. Software sales came in at $397 million, up from $316.4 million in the prior year quarter. Sales in the collectibles unit amounted to $169.8 million compared with $223.2 million reported in the year-ago quarter. Gross profit increased to $305.9 million from $282.2 million in the year-ago fiscal quarter. Selling, general and administrative (SG&A) expenses declined to $322.5 million from $387.5 million reported in the year-ago quarter. As a percentage of net sales, SG&A expenses came in at 27.7%, down from 34.1% reported in the year-ago period.The company’s adjusted operating loss was $20.7 million in the reported quarter. It had reported an adjusted operating loss of $106.2 million in the prior-year fiscal period. Adjusted EBITDA was $1 million compared with\",\n",
       "  'Filed under: Wait, were the short sellers right about GameStop? If you buy something from a Vox link, Vox Media may earn a commission. See our ethics statement. This is the type of simple story I’d love to be able to tell about GameStop: In early 2021, a ragtag group of everyday traders, led by a Massachusetts dad going by — depending on your social media platform — Roaring Kitty or DeepFuckingValue, took on Wall Street titans and won. The underdogs came out on top, the big bad rich guys wound up on the bottom, and in the process our heroes exposed many of the ways the financial system is rigged. Congress held a high-profile hearing about the incident in which the major players in the saga were involved, and something was likely to come of it. As for GameStop, well, there was still a lot to like about the stock. The whole thing was a virtuous endeavor. It’s the kind of story I could have maybe told pretty soon after the phenomenon began, though it was never that clear-cut — plenty of normie retail investors were just out to make money, just like the people betting on sports and crypto. The sticking-it-to-the-man narrative has never been a clean one. And two and a half years later, the overall GameStop story has become a whole lot messier. GameStop is still struggling. Wall Street is still winning. Nobody really knows what happened to Roaring Kitty. This is all probably good to keep in mind when watching the movie Dumb Money, out in theaters nationwide on September 29. Emily Stewart’s column exposes the ways we’re all being squeezed under capitalism.\\xa0Sign up here.  The movie is well executed, exhilarating, and captures the tenor of the times. It was a true “holy fucking shit” moment, to quote the film. It is also a Hollywood dramatization of something quite complicated — not just because markets are complicated, but because reality is. Wall Street types are pretty meh on the whole episode — one hedge funder I recently talked to told me the idea that',\n",
       "  'WSJ Membership Customer Service Tools & Features Ads More Dow Jones Products',\n",
       "  \"Shares of GameStop Corp. Cl A \\n        GME,\\n        -3.28%\\n       slipped 3.28% to $14.43 Monday, on what proved to be an all-around great trading session for the stock market, with the S&P 500 Index \\n        SPX,\\n        +1.06%\\n       rising 1.06% to 4,373.63 and the Dow Jones Industrial Average \\n        DJIA,\\n        +0.93%\\n       rising 0.93% to 33,984.54. This was the stock's fourth consecutive day of losses.  GameStop Corp. Cl A closed $20.56 below its 52-week high ($34.99), which the company reached on October 31st.   The stock underperformed when compared to some of its competitors Monday, as Apple Inc. \\n        AAPL,\\n        -0.07%\\n       fell 0.07% to $178.72, AT&T Inc. \\n        T,\\n        +0.35%\\n       rose 0.35% to $14.41, and Best Buy Co. Inc. \\n        BBY,\\n        +1.83%\\n       rose 1.83% to $70.76. Trading volume (3.5 M) eclipsed its 50-day average volume of 3.1 M. \\n\\t\\t\\t\\t\\t\\tEditor's Note: This story was auto-generated by Automated Insights, an automation technology provider, using data from Dow Jones and FactSet.  See our market data terms of use. Israel's war on Hamas has a more than 50% chance of drawing in groups from Lebanon or Syria, or producing a direct conflict with Iran, said BCA Research. Supported by world-class markets data from Dow Jones and FactSet, and partnering with Automated Insights, MarketWatch Automation brings you the latest, most pertinent content at record speed and with unparalleled accuracy. Supported by world-class markets data from\",\n",
       "  '\\n\\t\\t\\tNow is not the time to gamble with this speculative name\\t\\t \\n\\t\\t\\t\\t\\t\\t\\t\\tAdvertisement\\t\\t\\t\\t\\t\\t\\t Source: rafapress / Shutterstock.com Investors are clearly skeptical about Ryan Cohen’s ability to save GameStop (NYSE:GME). The stock has seen its share of pops, and a big one on news that Ryan Cohen would be stepping in as the company’s CEO. Yet since this announcement, GME stock has since dropped 23% over the last month, suggesting doubts about Cohen’s impact. Investors are surprisingly cautious despite Ryan Cohen’s ties to GameStop, as he is already on the board and a major shareholder, taking no extra pay for becoming CEO. While he aims to transform the company into an e-commerce giant, the market remains doubtful. Let’s explore the reason it’s a stock to consider selling. Ryan Cohen’s GameStop journey took a turn when he was appointed CEO on September 28, and notably, he won’t take a salary for it. Cohen, former Chewy CEO and GameStop’s top individual shareholder via RC Ventures, holds around 12.10% of the company’s shares. He initially joined GameStop’s board in 2021 and later became chairman. In June, Cohen became executive chairman after GameStop’s former CEO left. In his first memo as CEO titled “Survival,” he stressed frugality due to the company’s ongoing profitability struggles for five consecutive years. And, despite high operating expenses, retail efficiency hasn’t improved. Known for founding Chewy then selling it for billions, Cohen faced challenges with his investment in Bed Bath & Beyond. After substantial involvement and a lawsuit, the company declared bankruptcy. The SEC is investigating his shares and sale. In 2022, GameStop began shifting away from e-commerce expansion and non-disc products. Now, GME relies on its 4,400 physical stores that mainly sell disc-based video games. However, declining demand is evident as consumers increasingly download games. Cohen took note of the company’s issues in his\\xa0email to employees in September. After acquiring his stake in 2021 and pushing for e-commerce, the strategy fell short for a year, leading both Cohen and GME to abandon the effort. Recently, GameStop has been focused on cost-cutting to improve its finances, with CEO Cohen urging “extreme',\n",
       "  \"Credit Cards Loans Banking Mortgages Insurance Credit Monitoring Personal Finance Small Business Taxes Help for Low Credit Scores Investing SELECT All Credit Cards Find the Credit Card for You Best Credit Cards Best Rewards Credit Cards Best Travel Credit Cards Best 0% APR Credit Cards Best Balance Transfer Credit Cards Best Cash Back Credit Cards Best Credit Card Welcome Bonuses Best Credit Cards to Build Credit SELECT All Loans Find the Best Personal Loan for You Best Personal Loans Best Debt Consolidation Loans Best Loans to Refinance Credit Card Debt Best Loans with Fast Funding Best Small Personal Loans Best Large Personal Loans Best Personal Loans to Apply Online Best Student Loan Refinance SELECT All Banking Find the Savings Account for You Best High Yield Savings Accounts Best Big Bank Savings Accounts Best Big Bank Checking Accounts Best No Fee Checking Accounts No Overdraft Fee Checking Accounts Best Checking Account Bonuses Best Money Market Accounts Best CDs Best Credit Unions SELECT All Mortgages Best Mortgages Best Mortgages for Small Down Payment Best Mortgages for No Down Payment Best Mortgages with No Origination Fee Best Mortgages for Average Credit Score Adjustable Rate Mortgages Affording a Mortgage SELECT All Insurance Best Life Insurance Best Homeowners Insurance Best Renters Insurance Best Car Insurance Travel Insurance SELECT All Credit Monitoring Best Credit Monitoring Services Best Identity Theft Protection How to Boost Your Credit Score Credit Repair Services SELECT All Personal Finance Best Budgeting Apps Best Expense Tracker Apps Best Money Transfer Apps Best Resale Apps and Sites Buy Now Pay Later (BNPL) Apps Best Debt Relief SELECT All Small Business Best Small Business Savings Accounts Best Small Business Checking Accounts Best Credit Cards for Small Business Best Small Business Loans Best Tax Software for Small Business SELECT All Taxes Best Tax Software Best Tax Software for Small Businesses Tax Refunds SELECT All Help for Low Credit Scores Best Credit Cards for Bad Credit Best Personal Loans for Bad Credit Best Debt Consolidation Loans for Bad Credit Personal Loans if You Don't Have Credit Best Credit Cards for Building Credit Personal Loans for 580 Credit\",\n",
       "  \"Credit Cards Loans Banking Mortgages Insurance Credit Monitoring Personal Finance Small Business Taxes Help for Low Credit Scores Investing SELECT All Credit Cards Find the Credit Card for You Best Credit Cards Best Rewards Credit Cards Best Travel Credit Cards Best 0% APR Credit Cards Best Balance Transfer Credit Cards Best Cash Back Credit Cards Best Credit Card Welcome Bonuses Best Credit Cards to Build Credit SELECT All Loans Find the Best Personal Loan for You Best Personal Loans Best Debt Consolidation Loans Best Loans to Refinance Credit Card Debt Best Loans with Fast Funding Best Small Personal Loans Best Large Personal Loans Best Personal Loans to Apply Online Best Student Loan Refinance SELECT All Banking Find the Savings Account for You Best High Yield Savings Accounts Best Big Bank Savings Accounts Best Big Bank Checking Accounts Best No Fee Checking Accounts No Overdraft Fee Checking Accounts Best Checking Account Bonuses Best Money Market Accounts Best CDs Best Credit Unions SELECT All Mortgages Best Mortgages Best Mortgages for Small Down Payment Best Mortgages for No Down Payment Best Mortgages with No Origination Fee Best Mortgages for Average Credit Score Adjustable Rate Mortgages Affording a Mortgage SELECT All Insurance Best Life Insurance Best Homeowners Insurance Best Renters Insurance Best Car Insurance Travel Insurance SELECT All Credit Monitoring Best Credit Monitoring Services Best Identity Theft Protection How to Boost Your Credit Score Credit Repair Services SELECT All Personal Finance Best Budgeting Apps Best Expense Tracker Apps Best Money Transfer Apps Best Resale Apps and Sites Buy Now Pay Later (BNPL) Apps Best Debt Relief SELECT All Small Business Best Small Business Savings Accounts Best Small Business Checking Accounts Best Credit Cards for Small Business Best Small Business Loans Best Tax Software for Small Business SELECT All Taxes Best Tax Software Best Tax Software for Small Businesses Tax Refunds SELECT All Help for Low Credit Scores Best Credit Cards for Bad Credit Best Personal Loans for Bad Credit Best Debt Consolidation Loans for Bad Credit Personal Loans if You Don't Have Credit Best Credit Cards for Building Credit Personal Loans for 580 Credit\",\n",
       "  '© 2023 - Privacy - Terms',\n",
       "  'Meme stock king Ryan Cohen is taking control of GameStop. The Chewy founder, who already serves as chairman of the board and owns roughly 12% of the company’s stock, has been named president and CEO of the video game retailer. The company has been without a chief executive since June when it terminated former Amazon executive Matt Furlong. Cohen will not draw a salary for the role. Cohen has been looking to revive the once dominant brand since 2021, when he forced out the executive team at GameStop and assumed the chairman’s role. He has pushed the company to embrace e-commerce and launched a marketplace for NFTs, though neither effort has met with much success. He has come under fire from some investors (and analysts) for not announcing a substantial turnaround plan almost two years after taking control of the company His efforts haven’t been a complete failure. GameStop reported a quarterly increase in sales earlier this month as well as a smaller loss. And investors initially welcomed the news Cohen would be solely in charge of the company. Shares spiked 9% when the announcement was made, though they surrendered most of those gains in early trading Thursday. Analysts weren’t impressed by the news.  “Mr. Cohen’s Board is hand picked (mostly colleagues from Chewy), suggesting that his appointment was more of a coronation by his believers,” wrote Wedbush’s Michael Pachter in a note to investors. “We remain convinced that GameStop is doomed, as declining physical software sales and a shift of sales to subscriptions and digital downloads seal its fate.” GameStop, of course, was the original meme stock and remains popular with members of Reddit’s r/wallstreetbets community. Shares at the start of 2021 traded for less than $20, eventually spiking as high as $344. (Since the beginning of the rally, share prices have increased over 500% and returned the company to the Fortune 500 in 2021.) Cohen was also an investor in Bed Bath & Beyond, making that retailer a meme stock, but angered investors last year after completely withdrawing his position days after having indicated in a regulatory',\n",
       "  'Dumb Money captures the internet fanaticism of the GameStop-stock rush almost one year into the pandemic. It seems the turnaround time for films that are “based on a true story” is forever shrinking. Dumb Money, the director Craig Gillespie’s new movie about the GameStop-stock craze, chronicles events that took place in January 2021: a surprising boom in the brick-and-mortar video-game retailer’s stock value that eventually created a mini-crisis on Wall Street. The writer Ben Mezrich published an account of the story, The Antisocial Network, in September 2021; production on its film adaptation started a year later. This raises a question: How could they possibly create a period piece chronicling events that are so recent? My fear was that Dumb Money would resemble a dramatized Wikipedia page, explaining the technical details of a news story that viewers can just Google themselves. That’s a subgenre popularized by hits like Adam McKay’s The Big Short, a retelling of the 2008 financial crisis that contained repeated jokey scenes of celebrities explaining economics jargon straight to camera, in case viewers couldn’t keep track. And Dumb Money is about an incredibly complex series of events—a short squeeze prompted by a sudden increase in retail investment that placed some hedge funds in deep peril. Fortunately, Dumb Money understands that viewers don’t really want to sweat the details. Gillespie and his screenwriters, Lauren Schuker Blum and Rebecca Angelo, somehow deliver a film steeped in the mood of early 2021. Less than a year into the coronavirus pandemic, lots of people were still locked down in their homes, many businesses were closed, and it felt like the most anyone could do was be glued to their cellphone. Dumb Money borrows from the portentous atmosphere of David Fincher’s The Social Network, another movie based on a Mezrich book that turned an insular tech tale into a parable of societal rot. That’s not to say the movie isn’t fun—it’s a diverting, high-energy romp, packed with a charming ensemble and armed with an unsubtle disdain for the one percent. It spins the GameStop saga into a tale of plucky Davids taking on',\n",
       "  \"That content doesn't seem to exist... have you tried going to the home page, or exploring an interest? Meanwhile, here are some important items you'll want to know:\"],\n",
       " 'TSLA': ['Jump to        It turns out that two of the world\\'s best-known tech entrepreneurs have a lot in common — at least according to their biographer. Elon Musk\\'s biographer Walter Isaacson once said the Tesla CEO was \"in some ways the Steve Jobs of our time.\" And after over two years trailing Musk and interviewing Jobs more than 40 times when preparing to write their respective biographies, Isaacson probably knows a thing or two about any overlapping qualities. Throughout his new book on Musk, Isaacson repeatedly compares the Tesla CEO to Jobs — whether their personalities and management styles or their biggest weakness. In fact, the Apple cofounder\\'s name appears two dozen times in the new book. Here are some of the similarities and one key difference Isaacson identified between Jobs and Musk. \"When I was reporting on Steve Jobs, his partner Steve Wozniak said that the big question to ask was \\'Did he have to be so mean? So rough and cruel? So drama addicted?\\'\" Isaacson wrote in his biography on Musk, adding that Musk\\'s behavior prompted the same question. Isaacson has said Musk had a \"dark streak\" that his ex-girlfriend Grimes dubbed \"Demon mode\" — a mindset in which Musk lacks empathy and will be likely to rip into a worker or demand employees sprint toward an unrealistic deadline. The biographer said Jobs and Musk even shared a common phrase they\\'d use while on the verge of criticizing an employee: \"That\\'s just the stupidest thing I\\'ve ever heard.\" \"Their brutal honesty could be unnerving, even offensive,\" Isaacson wrote of Jobs and Musk. \"It could constrict rather than encourage honest dialogue. But it was also effective, at times, in creating what Jobs called a team of A players who didn\\'t want to be around fuzzy thinkers.\" Musk did not respond to a request for comment from Insider. He has previously denied claims he rips into employees, calling them \"false\" on X and saying he gave \"clear and frank\" feedback. Ultimately, the biographer said the two men didn\\'t have as much empathy and as',\n",
       "  'Sales of electric vehicles (EVs) surpassed an important milestone in Q3, marking a record quarter as the options available to consumers continue to increase. EV market sales in the U.S. reached 300,000 during the third quarter, according to data from Cox Automotive in a report from Reuters this week. The increase represents an almost 50-percent increase from last year’s Q3, while overall EV adoption rose to 7.9 percent in the same quarter. Dominant EV leader Tesla fell short of Q3 analyst delivery estimates, as announced earlier this month, and the automaker’s market share dropped from 62 to 50 percent in Q3. During the Q2 earnings call earlier this year, the automaker also predicted a drop in production during the third quarter due to factory upgrades. Tesla has also stirred what many have termed a “price war” by reducing prices across its lineup throughout much of the year. Most recently, Tesla cut the price of its Model 3 sedan and Model Y SUV just this week, which is the latest reduction after the automaker launched lineup-wide price cuts in January with more following in the months since. Tesla also began offering a more affordable Model Y configuration earlier this month. Tesla price cuts push EV market toward affordability with broader influence  The result has put pressure on other automakers, as they have been forced to either cut prices on their EVs or miss out on buyers seeking the best deal. An increase in electric options and lower prices on EVs are expected to boost demand, and the Cox report showed that average EV prices dropped to $50,683 in September from $52,212 in August. “Higher inventory levels, more product availability, and downward pricing pressure have helped spur continued linear growth of EV sales in the U.S. market,” Cox said in the Thursday report. Credit: Reuters Credit: Reuters Credit: Reuters The news comes after the price cuts have brought the price of the Tesla Model 3 and the Model Y beneath the average car price in the U.S. this year. It also comes ahead of Tesla’s initial deliveries of the highly anticipated',\n",
       "  'Thank you for your patience. Our engineers are working quickly to resolve the issue.',\n",
       "  'This website is using a security service to protect itself from online attacks. The action you just performed triggered the security solution. There are several actions that could trigger this block including submitting a certain word or phrase, a SQL command or malformed data. You can email the site owner to let them know you were blocked. Please include what you were doing when this page came up and the Cloudflare Ray ID found at the bottom of this page. \\nCloudflare Ray ID: 8177f61498fe9380\\n•\\n\\n      Your IP:\\n      Click to reveal\\n116.72.158.181\\n•\\n\\nPerformance & security by Cloudflare\\n',\n",
       "  'After weeks of Fed speak and rising yields driving stock action, corporate earnings will take center stage in the week ahead. Results from Bank of America (BAC) and Goldman Sachs (GS) will provide a look at how the financial sector is responding to the rising rate environment. Meanwhile, Tesla and Netflix will highlight the start of tech earnings. A September retail sales report is expected to show minor growth amid an otherwise quiet week for economic data. Recent economic data showed inflation cooling enough for the market to bet that the Fed won\\'t\\xa0raise interest rates at its November meeting but stocks still struggled to find solid footing as rising geopolitical risks and the fallout from higher for longer interest rates continue to cloud the picture. In the past week, the Nasdaq (^IXIC) fell nearly 0.2% while the benchmark S&P 500 (^GSPC) rose almost 0.5% and the Dow Jones Industrial Average (^DJI) popped about 0.8%. Inflation data out last week showed cooling price increases under the surface. The data left markets optimistic on a rate pause in November as Fed officials expressed that higher yields could provide necessary monetary tightening and effectively take the place of another interest rate hike. But combined with a hot September jobs report, there isn\\'t a broad consensus that the Fed is done hiking altogether. \"Continued strength in the labor market could lead to persistence in wage growth and forestall declines in consumption growth, which would leave price pressures elevated and growth above trend,\" Oxford Economics\\' team of economists wrote in a research note on Thursday. \"With the Fed committed to returning inflation back to its long-run target of 2%, this would raise the odds of rate increases this year, extend the duration of restrictive monetary policy, and increase the chances of a recession occurring down the road.\" The impact of the Federal Reserve\\'s interest rate hikes on corporate America are expected to once again be a key focus during third quarters earnings season. And at first reading, major financial institutions are holding up, as JPMorgan Chase (JPM), Citigroup (C), and Wells Fargo (WFC) all reported',\n",
       "  \"In a recent development,\\xa0Tesla, Inc.\\xa0CEO\\xa0Elon Musk\\xa0shed light on how wars considerably\\xa0affect advertising revenue on X, previously known as Twitter. On Saturday, he indicated in his\\xa0post a substantial decline in ad revenue tends to occur during war, as outlined in his response to a user's tweet lamenting decreased payouts. This revelation gains importance in the backdrop of heightened oversight from the European Union's regulatory bodies, according to a news\\xa0report\\xa0by Bloomberg. Also Read:\\xa0$88,920 Per Year For Tweeting? Elon Musk Delivers On Ad-Revenue Sharing Promise The EU is increasingly wary of potential content on X that may incite violence or have links to terrorism, the report added. Although Musk didn't pinpoint a particular conflict in his tweet, it's evident that geopolitical tensions can take a toll on online advertising revenues.\\xa0  Moreover, the ad revenue\\xa0model on X has witnessed a shift.\\xa0 The company reportedly\\xa0lowered the ad revenue sharing requirement to 5 million impressions, potentially\\xa0opening doors for small creators to earn big on the platform.\\xa0 Global platforms like\\xa0Meta Platforms, Inc.\\xa0META are also\\xa0under the microscope, with regulators worldwide keen on ensuring that they don't become conduits for spreading hate or inciting violence. In a recent statement, Meta\\xa0said it is intensively\\xa0moderating content\\xa0across its platforms, eliminating over 795,000 content breaches of its guidelines in Hebrew and Arabic in the three days following\\xa0Hamas'\\xa0attack on\\xa0Israel on Oct.\\xa07. This content was partially produced with the help of AI tools and was reviewed and published by Benzinga editors. Photo: Shutterstock \\xa0 © 2023 Benzinga.com. Benzinga does not provide investment advice. All rights reserved.\",\n",
       "  '',\n",
       "  '© 2023 - Privacy - Terms',\n",
       "  '2023 Tata Safari, Harrier launch tomorrow: All you need to know, expected price Highest selling mid-size SUVs in September 2023: Mahindra Scorpio to Hyundai Tucson 2023 Tata Harrier quick review: A big step up but not perfect yet Funny Pakistani bikes and scooters costing up to PKR 2.5 lakh with moped-like looks Most fuel-efficient cars under Rs 7 lakh: Maruti Alto to Tata Tiago Special edition SUVs under Rs 20 lakh this festive season: Magnite Kuro to Taigun Matte â\\x80\\x8bHighest-selling sub-compact SUVs in September 2023: Tata Nexon to Mahindra XUV 300 Car with fuel-efficiency of Hero Splendor unveiled in India: Full details Triumph Scrambler 400X launched: Price, delivery, engine, features'],\n",
       " 'BTC': ['A baker\\'s dozen of properties to suit anyone\\'s taste Bitcoin\\'s price has seen a notable increase in the past week. The rise has been driven in some part by a dynamic between short and long-term bitcoin holders, according to an analyst. Bitcoin (BTC-USD) has risen by 4.5% in the past week, now changing hands at $27,602, (£22,771) according to CoinGecko data. This is a retrace from a height of $28,500, that was reached on Monday. The early October high marked a significant price point that has not been reached since August 17, 2023. Read more: Crypto live prices \"Bitcoin now finds itself in a technical range, confined between the resistance level of $28,500 and the support level of $27,100,\" CryptoQuant analyst Adam Mourad told Yahoo Finance UK. The analyst explained the underlying factors that could be at play. Mourad described a market dynamic that has developed between short and long-term bitcoin holders. He referred to on-chain metrics that demonstrated long-term holders acquiring the digital assets that are being sold by short-term holders. \"The supply held by short-term holders has dipped to its lowest point in nearly eight years, a level not seen since November 2015, with a value of 3.8 million bitcoins,\" the analyst said. Conversely, the CryptoQuant analyst referred to on-chain data that showed the supply of bitcoin held by long-term holders has reached an all-time high, standing at 15.6 million bitcoins. He added that long-term holders have a deeper belief in the asset and will hold and accumulate the asset. A dynamic that favours price appreciation. Read more: SBF defense in FTX trial: \\'There was no theft\\' Long-term holders of bitcoin wait in hopeful anticipation that an approval of a spot bitcoin ETF by US regulators is forthcoming. A spot bitcoin ETF is a financial product that investors hope will open the gateway for mainstream capital to flood the crypto market. At a conference in London this week, former BlackRock (BLK) managing director Steven Schoenfield said he believed the SEC could approve a spot bitcoin ETF within 3-6 months based on mounting regulatory pressure. This relatively short timeframe',\n",
       "  '\\n\\n\\n\\n\\nShraddha Sharma\\n\\nFXStreet\\n\\n\\n Grayscale has expressed its readiness to convert its Grayscale Bitcoin Trust (GBTC) into an exchange-traded fund (ETF) after the US Securities & Exchange Commission (SEC) missed the deadline to appeal. The discount on GBTC shares against its net asset value (NAV) has significantly reduced from 48% to 16%. Also Read: Bitcoin price surges as SEC misses appeal deadline for Grayscale GBTC conversion to spot BTC ETF Following the court\\'s deadline for the securities regulator to appeal Grayscale\\'s conversion request, the latter issued a statement. The company noted its readiness to transform its Grayscale Bitcoin Trust fund (GBTC) into an ETF. Grayscale\\'s statement shared with Fox News said: \"The Grayscale team remains operationally ready to convert GBTC to an ETF upon the SEC’s approval, and we look forward to sharing more information as soon as practicable.\" This follows the SEC\\'s decision to not appeal the court\\'s approval of Grayscale\\'s fund conversion application. Bloomberg analyst James Seyffart anticipates that dialogue between Grayscale and the SEC will commence this week, offering clarity on ETF approval. While investors anticipate approval, the GBTC market cap is close to $3.5 billion based on Yahoo Finance data. Meanwhile, the next critical approval deadline for the SEC is upcoming on January 10 which pertains to an application previously submitted by ARK Invest and 21Shares. Additionally, the SEC is evaluating multiple spot Bitcoin ETF proposals, including those from financial heavyweights like Fidelity and BlackRock. Also Read: SEC will not appeal court ruling on Grayscale GBTC conversion to spot Bitcoin ETF Meanwhile, GBTC\\'s discount against the net asset value (NAV) has reduced from almost 48% in December 2022 to 16% on Friday based on YCharts data. Crypto investor and influencer Scott Melkar noted, \"The narrowing of the discount between the market price and NAV could be indicative of shifting market sentiment and potentially increased demand for GBTC shares.\" \\nGBTC discount to NAV A fund’s discount to NAV essentially means that the market price of the fund\\'s shares is trading at a lower price than the actual value of the assets held by the fund. In simpler terms, investors',\n",
       "  'Former hedge fund manager and host of CNBC’s Mad Money, Jim Cramer Tuesday evening continued with his recent bearish stance on crypto, a stark contrast to what another hedge funder said earlier that day on CNBC. “I can’t go out with gold because gold is not good; I can’t go out with bitcoin [BTC] because I can’t be in something where Mr. Bitcoin is about to go down big,” said Cramer. It’s unclear if “Mr. Bitcoin” was in reference to the ongoing trial of Sam Bankman-Fried, or to bitcoin in general, but Cramer’s bearishness was evident. Although bitcoin is far off its all-time high of $68,000 reached in 2021’s bull market, the cryptocurrency is still trading up 68% since the start of the year. Cramer had previously stated in June 2021 that he had sold most of his bitcoin holdings following China’s crackdown on crypto miners. He also said during the same time period that bitcoin had structural issues and its price would likely fall further. Appearing on CNBC earlier on Tuesday, billionaire hedge fund giant Paul Tudor Jones said he’s a fan of both bitcoin and gold due to the combination of extensive geopolitical risk and rising U.S. government debt levels.',\n",
       "  'Bitcoin [BTC] Wednesday tumbled below $27,000 for the first time since the start of the month as what’s now a four-day rally in stocks and three consecutive days of falling bond yields failed to ignite any buying interest in the crypto. Bitcoin late in the afternoon on Wednesday was down 2.5% over the past 24 hours, underperforming the CoinDesk Market Index’s (CMI) 1.75% decline. Among large-cap cryptos, the Ripple Labs-related [XRP], litecoin [LTC] and Polkadot’s native token [DOT] fell 2%-3%. Ether [ETH] outperformed BTC and the CMI, declining 0.7% to near $1,550. Crypto derivatives traders who bet on higher prices with long positions suffered $50 million in liquidations during the day, CoinGlass data shows. BTC constituted $22.5 million of the liquidations, marking the second-highest reading this month. The weak price action of crypto occurred as traditional markets continued to post gains, with the Nasdaq advancing 0.7% and the S&P 500 adding 0.4% – both indexes now on a four-day winning streak. Bonds are having a winning streak of their own, with the 10-year U.S. Treasury yield lower by 10 basis points to 4.56%. It closed last Friday at 4.80%. In economic news, the U.S. Producer Price Index (PPI) for September came in a bit stronger than expectations. The minutes from the most recent meeting of the Fed’s Federal Open Market Committee (FOMC) showed most expect one more rate hike before the monetary tightening cycle is complete. Some analysts noted BTC’s remarkable steadiness over past weeks amid falling U.S. stocks and bond market rout. However, that trend appeared to fizzle out after the crypto failed to break above a heavy resistance at around $28,000, a confluence of the 200-day and 200-week moving averages. Popular trader XO said in an X post that “narratives will shift bearish” for bitcoin as “spot holders will start unwinding in fear or lower prices,” hinting at a potential fall below $25,000. Caleb Franzen, founder of Cubic Analytics, noted in an X post that bitcoin broke down from its upward trend starting at its rally from $25,000, and could retest lower levels. #Bitcoin is falling below the',\n",
       "  \"The bitcoin (BTC) mining industry is at a crucible moment, as the approval of a spot BTC exchange-traded-fund (ETF) could catalyze a rally against a backdrop of record hashrates and the impending block reward halving that threaten the industry's revenues and profitability, JPMorgan (JPM) said in a research report Wednesday. The bank favors mining operators that offer the best relative value in light of their “existing hashrate, operational efficiency, power contracts, funded growth plans and liquidity,” analysts Reginald Smith and Charles Pearce wrote. Read more: Bitcoin Halving Is Coming and Only the Most Efficient Miners Will Survive JPMorgan initiates coverage of CleanSpark (CLSK) with an overweight rating and a price target of $5.50; Marathon Digital (MARA) at underweight with a $5 target; Riot Platforms (RIOT) at underweight with a $6.50 target, and Cipher Mining (CIFR) at neutral. The bank also upgraded Iris Energy (IREN) to overweight from neutral. The U.S. Securities and Exchange Commission (SEC) has delayed its decision on whether or not to approve a spot bitcoin ETF until this month. The crypto market is hopeful that any approval will trigger a flood of mainstream money into the sector. CleanSpark is the bank’s top pick, offering the best balance of “scale, growth potential, power costs and relative value.” The analysts said that Marathon is the largest mining operator but has the highest energy costs and lowest margins. Meanwhile, Riot has relatively low power costs and liquidity but is the most expensive stock in their coverage universe. Among the peers, Cipher Mining has the lowest power costs but is “growth constrained,” the report noted. The bank estimates the four-year block reward opportunity at around $20 billion at current bitcoin prices. However, the looming block reward halving, expected in the second quarter of 2024, could impact profitability. It estimates that as much as 20% of the network hashrate is at risk from halving as less efficient mining computers are decommissioned. Read more: Listed Bitcoin Miners Could be the Ultimate Bet for 2024: Matrixport\",\n",
       "  'Bitcoin [BTC] is a monetary good and an attractive store of value in a progressively digital world, Fidelity Digital Assets, a unit of financial services giant Fidelity investments, said last week. Traditional investors tend to use a technology investing framework when analyzing bitcoin, which leads them to the wrong conclusion that the cryptocurrency “as a first-mover technology, will easily be supplanted by a superior one or have lower returns,” analysts Chris Kuiper and Jack Neureuter wrote. However, “bitcoin’s first technological breakthrough was not as a superior payment technology, but as a superior form of money,” the authors wrote. “Bitcoin is fundamentally different from any other digital asset,” the report said, and other cryptocurrencies are unlikely to improve on BTC as a monetary good because it is the most “secure, decentralized, sound digital money.” The success of the Bitcoin network is not mutually exclusive with the success of other networks, the report argued, as the rest of the digital asset ecosystem can service different needs or solve other problems that bitcoin can’t. According to the report, the world’s largest cryptocurrency’s return profile is driven by two powerful tailwinds: “global growth of the broader digital asset ecosystem and the potential instability of traditional macroeconomic conditions.” “Bitcoin should be considered first and separate from all other digital assets that have followed it,” and it should be viewed as an entry point for traditional allocators looking to gain exposure to the sector, the report added. Read more: Bitcoin Is Better Than Digital Gold: Matrixport',\n",
       "  \"Anyone can trade bitcoin (BTC): that’s the point of an open protocol like Bitcoin. So why is so much time and energy put towards getting alternative ways of accessing bitcoins? In particular, why is there so much hype around spot market bitcoin ETFs, or exchange-traded funds, especially when similar products (like “futures-based” ETFs and exchange-traded products, or ETPs) already exist? This is an excerpt from The Node newsletter, a daily roundup of the most pivotal crypto news on CoinDesk and beyond. You can subscribe to get the full newsletter here. And yet, today, at the mere rumor that asset manager BlackRock’s bitcoin ETF was finally approved (it wasn’t), markets bounced up by $2,000 (and then down). Clearly there’s something like pent up demand for these traditional financial instruments, or at least money on the sidelines waiting to trade the news around ETFs. See also: The Real Reasons the Grayscale Bitcoin ETF Decision Matters | Opinion Cointelegraph, which tweeted out the story then picked up by closely-watched news aggregator accounts, got it wrong. BlackRock’s iShares application is still under review by the U.S. Securities and Exchange Commission (SEC), the company clarified. Market watchers were already primed to look for ETF-related stories, given the confirmed news a competitor ETF application from Grayscale is back in play, after the SEC missed its chance to respond to an appeals court. In the case of BlackRock’s ETF application, much of the excitement is tied to the fact that it's the largest asset manager in the world that did the filing and is interested to move deeper into crypto markets. BlackRock’s application alone was validation for the whole crypto industry, with comments made later by BlackRock CEO Larry Fink — who argued that a monetary asset untethered to any national government will become increasingly attractive — was sugar on top. The desire for a spot market bitcoin ETF stems from the idea that many people, firms and funds who are interested in taking on exposure to bitcoin are not yet able to. A traditional financial wrapper for the novel bitcoin asset class would, therefore, act as\",\n",
       "  '© 2023 - Privacy - Terms',\n",
       "  '(Bloomberg) -- An erroneous news report that sparked a brief 10% rally in Bitcoin is shining a spotlight on a crypto industry that’s waiting with bated breath for the arrival of mass-market ETFs to revitalize its fortunes. Most Read from Bloomberg Israel Latest: Blinken Works on Gaza Aid as Biden Set to Visit Your Guide to Understanding the Roots of the Israel-Hamas War Putin Arrives in China to Meet Xi on Rare International Trip Israel Latest: Army Says Hamas Officials Dead; Over 600,000 in Gaza Flee South Biden Plans High-Stakes Israel Visit to Keep War From Escalating On Monday morning, a rally in the token was quickly reversed after a news report incorrectly asserted that BlackRock Inc. had received the green light to launch a spot exchange-traded fund in the cryptocurrency. While the news may have been bogus, the money at stake was very real. Data from tracker Coinglass shows that more than $85 million worth of trading positions, mostly from traders who were betting on lower prices, were liquidated over the past 24 hours. While misinformation is par for the course for an industry beloved by fraudsters and digital advocates alike, the episode adds to the raging debate on whether the market has actually priced in the arrival of an exchange-traded fund tracking the largest digital coin. It also underscores concerns held by regulators that retail investors lack basic protections in the crypto Wild West — a sticking point that has in the past fueled the Securities and Exchange Commission’s reluctance to broaden market access. “The fake news about the Bitcoin ETF being approved highlights the challenge of protecting investors in an unregulated space that attracts shady operators and rampant speculation,” said Michael O’Rourke, chief market strategist at JonesTrading. Bitcoin jumped above $30,000 to its highest level since July after a handful of tweets propagating the unfounded news pushed the price up. The coin then pared those gains to trade around $28,300 — just about where it had been before the incident — after BlackRock said its ETF application was “still under review” by regulators. This particular instance comes',\n",
       "  'Thank you for your patience. Our engineers are working quickly to resolve the issue.',\n",
       "  'The connection between gold and bitcoin (BTC) as stores of value is obvious, and the demand for BTC as a digital store of value was a big reason why the cryptocurrency grew in popularity, crypto services provider Matrixport said in a report Monday. Bitcoin’s market capitalization is $540 billion, equivalent to 10.8% of the market cap of physical financial gold, Matrixport said, adding that gold exchange-traded-funds (ETFs) are valued at $200 billion. This is why potential approval by the Securities and Exchange Commission (SEC) of a U.S.-listed spot bitcoin ETF could result in inflows of $20 - $30 billion, potentially triggering a large rally in the cryptocurrency, the report said. The SEC has dragged its heels on approving a spot bitcoin ETF, and in August said it was delaying its decision on all new applications until October. The crypto market is hopeful that such an approval will trigger a flood of mainstream money into the sector. Still, bitcoin has an edge over gold as the private keys can be memorized, which eliminates the risk of confiscation, the report said. “Even today, storing assets in the form of gold has not only become unfashionable in the digital age, but comes with significant restrictions when crossing borders,” wrote Markus Thielen, head of research at Matrixport, adding that “bitcoin offers a solution to this dilemma, enabling the swift and relatively inconspicuous movement of value across borders.” “Therefore, considering the current state of technological developments, bitcoin’s primary roles are likely as a store of value akin to gold and a speculative financial asset,” the report added. Read more: Bitcoin Price May Boom in October, Could Hit $37K by Year-End: Matrixport']}"
      ]
     },
     "execution_count": 20,
     "metadata": {},
     "output_type": "execute_result"
    }
   ],
   "source": [
    "articles = {ticker:scrape_and_process(cleaned_urls[ticker]) for ticker in monitored_tickers}\n",
    "articles"
   ]
  },
  {
   "cell_type": "code",
   "execution_count": 21,
   "metadata": {},
   "outputs": [
    {
     "data": {
      "text/plain": [
       "'Thank you for your patience. Our engineers are working quickly to resolve the issue.'"
      ]
     },
     "execution_count": 21,
     "metadata": {},
     "output_type": "execute_result"
    }
   ],
   "source": [
    "articles['TSLA'][2]"
   ]
  },
  {
   "cell_type": "markdown",
   "metadata": {},
   "source": [
    "## 4.4. Summarise all Articles"
   ]
  },
  {
   "cell_type": "code",
   "execution_count": 22,
   "metadata": {},
   "outputs": [],
   "source": [
    "def summarize(articles):\n",
    "    summaries = []\n",
    "    for article in articles:\n",
    "        input_ids = tokenizer.encode(article, return_tensors='pt')\n",
    "        output = model.generate(input_ids, max_length=55, num_beams=5, early_stopping=True)\n",
    "        summary = tokenizer.decode(output[0], skip_special_tokens=True)\n",
    "        summaries.append(summary)\n",
    "    return summaries"
   ]
  },
  {
   "cell_type": "code",
   "execution_count": 23,
   "metadata": {
    "collapsed": true
   },
   "outputs": [
    {
     "data": {
      "text/plain": [
       "{'GME': ['Video game retailer reported better-than-expected results in second quarter. Shares of the company have lost about 22.1% in the past month',\n",
       "  'Back in early 2021, a ragtag group of everyday traders took on Wall Street. But two and a half years later, the story is a whole lot messier',\n",
       "  'Rough Rough cut (no reporter narration)',\n",
       "  'Shares of the video-game retailer have fallen below their 50-day moving average.',\n",
       "  'Ryan Cohen, former Chewy CEO, takes no pay for job. Shares have dropped 23% since his appointment, suggesting doubts',\n",
       "  'Find the best credit cards, loans, insurance and more in SELECT.',\n",
       "  'Find the best credit cards, loans, insurance and more in SELECT.',\n",
       "  'All images are copyrighted.',\n",
       "  'Cohen already serves as chairman of the board. Video game retailer has been without a CEO since June',\n",
       "  'Director Craig Gillespie’s film is a diverting, high-energy romp.',\n",
       "  'Have you tried going to Newsround?'],\n",
       " 'TSLA': ['Walter Isaacson says he interviewed both men more than 40 times. Musk has a \"dark streak\" that his ex-girlfriend dubbed \"Demon mode',\n",
       "  'Tesla falls short of Q3 delivery estimates, market share falls. Lower prices have made EVs more affordable for many',\n",
       "  'We are aware of the issue and are working to resolve it.',\n",
       "  'You have been directed to this page because of an action you took.',\n",
       "  'Bank of America, Goldman Sachs to report third-quarter results. Tesla, Netflix and other tech companies to report results',\n",
       "  'DropCatch DropCatch DropCatch DropCatch DropCatch, formerly known as Twitter, is under scrutiny.',\n",
       "  'All photographs subject to copyright.',\n",
       "  'All images are copyrighted.',\n",
       "  'Highest-selling SUVs in September 2023: Mahindra Scorpio to Hyundai Tucson'],\n",
       " 'BTC': ['The supply of bitcoin held by short-term holders is at its lowest point in nearly eight years.',\n",
       "  'GBTC market cap is close to $3.5 billion based on Yahoo Finance data. discount on GBTC shares against net asset value has reduced',\n",
       "  '‘I can’t go out with gold because gold is not good,’ says Cramer. Bitcoin is about to go down big, he says',\n",
       "  'Bitcoin falls below $27,000, underperforming CoinDesk Market Index. Ripple Labs-related, litecoin and Polkadot’s native token drop',\n",
       "  'Biggest miner CleanSpark offers best relative value, bank says. Bitcoin ETF decision delayed by SEC until this month',\n",
       "  'Bitcoin is a monetary good, not a ‘first-mover’ technology, report says.',\n",
       "  'Asset manager’s application for a spot market ETF is still under review. Demand for traditional financial instruments is pent up',\n",
       "  'All images are copyrighted.',\n",
       "  'More than $85 million worth of trading positions liquidated in 24 hours. BlackRock says its ETF application is still under review',\n",
       "  'We are aware of the issue and are working to resolve it.',\n",
       "  'Bitcoin’s market cap is equivalent to 10.8% of physical gold, report says. ETF approval could trigger inflows of $20-30 billion, report says']}"
      ]
     },
     "execution_count": 23,
     "metadata": {},
     "output_type": "execute_result"
    }
   ],
   "source": [
    "summaries = {ticker:summarize(articles[ticker]) for ticker in monitored_tickers}\n",
    "summaries"
   ]
  },
  {
   "cell_type": "code",
   "execution_count": 24,
   "metadata": {},
   "outputs": [
    {
     "data": {
      "text/plain": [
       "['The supply of bitcoin held by short-term holders is at its lowest point in nearly eight years.',\n",
       " 'GBTC market cap is close to $3.5 billion based on Yahoo Finance data. discount on GBTC shares against net asset value has reduced',\n",
       " '‘I can’t go out with gold because gold is not good,’ says Cramer. Bitcoin is about to go down big, he says',\n",
       " 'Bitcoin falls below $27,000, underperforming CoinDesk Market Index. Ripple Labs-related, litecoin and Polkadot’s native token drop',\n",
       " 'Biggest miner CleanSpark offers best relative value, bank says. Bitcoin ETF decision delayed by SEC until this month',\n",
       " 'Bitcoin is a monetary good, not a ‘first-mover’ technology, report says.',\n",
       " 'Asset manager’s application for a spot market ETF is still under review. Demand for traditional financial instruments is pent up',\n",
       " 'All images are copyrighted.',\n",
       " 'More than $85 million worth of trading positions liquidated in 24 hours. BlackRock says its ETF application is still under review',\n",
       " 'We are aware of the issue and are working to resolve it.',\n",
       " 'Bitcoin’s market cap is equivalent to 10.8% of physical gold, report says. ETF approval could trigger inflows of $20-30 billion, report says']"
      ]
     },
     "execution_count": 24,
     "metadata": {},
     "output_type": "execute_result"
    }
   ],
   "source": [
    "summaries['BTC']"
   ]
  },
  {
   "cell_type": "markdown",
   "metadata": {},
   "source": [
    "# 5. Adding Sentiment Analysis"
   ]
  },
  {
   "cell_type": "code",
   "execution_count": 25,
   "metadata": {},
   "outputs": [
    {
     "name": "stderr",
     "output_type": "stream",
     "text": [
      "No model was supplied, defaulted to distilbert-base-uncased-finetuned-sst-2-english and revision af0f99b (https://huggingface.co/distilbert-base-uncased-finetuned-sst-2-english).\n",
      "Using a pipeline without specifying a model name and revision in production is not recommended.\n"
     ]
    },
    {
     "data": {
      "application/vnd.jupyter.widget-view+json": {
       "model_id": "9e42ce9d0e064f509b96295d84f1f2af",
       "version_major": 2,
       "version_minor": 0
      },
      "text/plain": [
       "Downloading (…)lve/main/config.json:   0%|          | 0.00/629 [00:00<?, ?B/s]"
      ]
     },
     "metadata": {},
     "output_type": "display_data"
    },
    {
     "data": {
      "application/vnd.jupyter.widget-view+json": {
       "model_id": "6e4871f9b74248418927f7cbcd9ecb6e",
       "version_major": 2,
       "version_minor": 0
      },
      "text/plain": [
       "Downloading model.safetensors:   0%|          | 0.00/268M [00:00<?, ?B/s]"
      ]
     },
     "metadata": {},
     "output_type": "display_data"
    },
    {
     "data": {
      "application/vnd.jupyter.widget-view+json": {
       "model_id": "50e26cddf1334e1fa04b0a3a3872d6d1",
       "version_major": 2,
       "version_minor": 0
      },
      "text/plain": [
       "Downloading (…)okenizer_config.json:   0%|          | 0.00/48.0 [00:00<?, ?B/s]"
      ]
     },
     "metadata": {},
     "output_type": "display_data"
    },
    {
     "data": {
      "application/vnd.jupyter.widget-view+json": {
       "model_id": "a28ab4ceb82644ff846906c5201e2fbc",
       "version_major": 2,
       "version_minor": 0
      },
      "text/plain": [
       "Downloading (…)solve/main/vocab.txt:   0%|          | 0.00/232k [00:00<?, ?B/s]"
      ]
     },
     "metadata": {},
     "output_type": "display_data"
    }
   ],
   "source": [
    "from transformers import pipeline\n",
    "sentiment = pipeline('sentiment-analysis')"
   ]
  },
  {
   "cell_type": "code",
   "execution_count": 26,
   "metadata": {},
   "outputs": [
    {
     "data": {
      "text/plain": [
       "[{'label': 'NEGATIVE', 'score': 0.9996198415756226},\n",
       " {'label': 'NEGATIVE', 'score': 0.9991340041160583},\n",
       " {'label': 'NEGATIVE', 'score': 0.9989274144172668},\n",
       " {'label': 'NEGATIVE', 'score': 0.9991093277931213},\n",
       " {'label': 'NEGATIVE', 'score': 0.9797898530960083},\n",
       " {'label': 'POSITIVE', 'score': 0.9741136431694031},\n",
       " {'label': 'NEGATIVE', 'score': 0.597372829914093},\n",
       " {'label': 'NEGATIVE', 'score': 0.9880996346473694},\n",
       " {'label': 'NEGATIVE', 'score': 0.9911858439445496},\n",
       " {'label': 'POSITIVE', 'score': 0.9979088306427002},\n",
       " {'label': 'NEGATIVE', 'score': 0.9954965114593506}]"
      ]
     },
     "execution_count": 26,
     "metadata": {},
     "output_type": "execute_result"
    }
   ],
   "source": [
    "sentiment(summaries['BTC'])"
   ]
  },
  {
   "cell_type": "code",
   "execution_count": 27,
   "metadata": {
    "collapsed": true
   },
   "outputs": [
    {
     "data": {
      "text/plain": [
       "{'GME': [{'label': 'NEGATIVE', 'score': 0.9992434978485107},\n",
       "  {'label': 'NEGATIVE', 'score': 0.9988741278648376},\n",
       "  {'label': 'NEGATIVE', 'score': 0.9994315505027771},\n",
       "  {'label': 'NEGATIVE', 'score': 0.99901282787323},\n",
       "  {'label': 'NEGATIVE', 'score': 0.9990560412406921},\n",
       "  {'label': 'POSITIVE', 'score': 0.9378337860107422},\n",
       "  {'label': 'POSITIVE', 'score': 0.9378337860107422},\n",
       "  {'label': 'NEGATIVE', 'score': 0.9880996346473694},\n",
       "  {'label': 'NEGATIVE', 'score': 0.9766747951507568},\n",
       "  {'label': 'POSITIVE', 'score': 0.9998674392700195},\n",
       "  {'label': 'NEGATIVE', 'score': 0.9915708303451538}],\n",
       " 'TSLA': [{'label': 'NEGATIVE', 'score': 0.9606534838676453},\n",
       "  {'label': 'NEGATIVE', 'score': 0.99946528673172},\n",
       "  {'label': 'POSITIVE', 'score': 0.9979088306427002},\n",
       "  {'label': 'NEGATIVE', 'score': 0.9522320032119751},\n",
       "  {'label': 'NEGATIVE', 'score': 0.9354450106620789},\n",
       "  {'label': 'NEGATIVE', 'score': 0.997977077960968},\n",
       "  {'label': 'NEGATIVE', 'score': 0.9676677584648132},\n",
       "  {'label': 'NEGATIVE', 'score': 0.9880996346473694},\n",
       "  {'label': 'POSITIVE', 'score': 0.9979451298713684}],\n",
       " 'BTC': [{'label': 'NEGATIVE', 'score': 0.9996198415756226},\n",
       "  {'label': 'NEGATIVE', 'score': 0.9991340041160583},\n",
       "  {'label': 'NEGATIVE', 'score': 0.9989274144172668},\n",
       "  {'label': 'NEGATIVE', 'score': 0.9991093277931213},\n",
       "  {'label': 'NEGATIVE', 'score': 0.9797898530960083},\n",
       "  {'label': 'POSITIVE', 'score': 0.9741136431694031},\n",
       "  {'label': 'NEGATIVE', 'score': 0.597372829914093},\n",
       "  {'label': 'NEGATIVE', 'score': 0.9880996346473694},\n",
       "  {'label': 'NEGATIVE', 'score': 0.9911858439445496},\n",
       "  {'label': 'POSITIVE', 'score': 0.9979088306427002},\n",
       "  {'label': 'NEGATIVE', 'score': 0.9954965114593506}]}"
      ]
     },
     "execution_count": 27,
     "metadata": {},
     "output_type": "execute_result"
    }
   ],
   "source": [
    "scores = {ticker:sentiment(summaries[ticker]) for ticker in monitored_tickers}\n",
    "scores"
   ]
  },
  {
   "cell_type": "code",
   "execution_count": 28,
   "metadata": {},
   "outputs": [
    {
     "name": "stdout",
     "output_type": "stream",
     "text": [
      "Shares of the video-game retailer have fallen below their 50-day moving average. NEGATIVE 0.99901282787323\n"
     ]
    }
   ],
   "source": [
    "print(summaries['GME'][3], scores['GME'][3]['label'], scores['GME'][3]['score'])"
   ]
  },
  {
   "cell_type": "code",
   "execution_count": 29,
   "metadata": {},
   "outputs": [
    {
     "data": {
      "text/plain": [
       "0.9996198415756226"
      ]
     },
     "execution_count": 29,
     "metadata": {},
     "output_type": "execute_result"
    }
   ],
   "source": [
    "scores['BTC'][0]['score']"
   ]
  },
  {
   "cell_type": "markdown",
   "metadata": {},
   "source": [
    "# 6. Exporting Results to CSV"
   ]
  },
  {
   "cell_type": "code",
   "execution_count": 30,
   "metadata": {
    "collapsed": true
   },
   "outputs": [
    {
     "data": {
      "text/plain": [
       "{'GME': ['Video game retailer reported better-than-expected results in second quarter. Shares of the company have lost about 22.1% in the past month',\n",
       "  'Back in early 2021, a ragtag group of everyday traders took on Wall Street. But two and a half years later, the story is a whole lot messier',\n",
       "  'Rough Rough cut (no reporter narration)',\n",
       "  'Shares of the video-game retailer have fallen below their 50-day moving average.',\n",
       "  'Ryan Cohen, former Chewy CEO, takes no pay for job. Shares have dropped 23% since his appointment, suggesting doubts',\n",
       "  'Find the best credit cards, loans, insurance and more in SELECT.',\n",
       "  'Find the best credit cards, loans, insurance and more in SELECT.',\n",
       "  'All images are copyrighted.',\n",
       "  'Cohen already serves as chairman of the board. Video game retailer has been without a CEO since June',\n",
       "  'Director Craig Gillespie’s film is a diverting, high-energy romp.',\n",
       "  'Have you tried going to Newsround?'],\n",
       " 'TSLA': ['Walter Isaacson says he interviewed both men more than 40 times. Musk has a \"dark streak\" that his ex-girlfriend dubbed \"Demon mode',\n",
       "  'Tesla falls short of Q3 delivery estimates, market share falls. Lower prices have made EVs more affordable for many',\n",
       "  'We are aware of the issue and are working to resolve it.',\n",
       "  'You have been directed to this page because of an action you took.',\n",
       "  'Bank of America, Goldman Sachs to report third-quarter results. Tesla, Netflix and other tech companies to report results',\n",
       "  'DropCatch DropCatch DropCatch DropCatch DropCatch, formerly known as Twitter, is under scrutiny.',\n",
       "  'All photographs subject to copyright.',\n",
       "  'All images are copyrighted.',\n",
       "  'Highest-selling SUVs in September 2023: Mahindra Scorpio to Hyundai Tucson'],\n",
       " 'BTC': ['The supply of bitcoin held by short-term holders is at its lowest point in nearly eight years.',\n",
       "  'GBTC market cap is close to $3.5 billion based on Yahoo Finance data. discount on GBTC shares against net asset value has reduced',\n",
       "  '‘I can’t go out with gold because gold is not good,’ says Cramer. Bitcoin is about to go down big, he says',\n",
       "  'Bitcoin falls below $27,000, underperforming CoinDesk Market Index. Ripple Labs-related, litecoin and Polkadot’s native token drop',\n",
       "  'Biggest miner CleanSpark offers best relative value, bank says. Bitcoin ETF decision delayed by SEC until this month',\n",
       "  'Bitcoin is a monetary good, not a ‘first-mover’ technology, report says.',\n",
       "  'Asset manager’s application for a spot market ETF is still under review. Demand for traditional financial instruments is pent up',\n",
       "  'All images are copyrighted.',\n",
       "  'More than $85 million worth of trading positions liquidated in 24 hours. BlackRock says its ETF application is still under review',\n",
       "  'We are aware of the issue and are working to resolve it.',\n",
       "  'Bitcoin’s market cap is equivalent to 10.8% of physical gold, report says. ETF approval could trigger inflows of $20-30 billion, report says']}"
      ]
     },
     "execution_count": 30,
     "metadata": {},
     "output_type": "execute_result"
    }
   ],
   "source": [
    "summaries"
   ]
  },
  {
   "cell_type": "code",
   "execution_count": 31,
   "metadata": {
    "collapsed": true
   },
   "outputs": [
    {
     "data": {
      "text/plain": [
       "{'GME': [{'label': 'NEGATIVE', 'score': 0.9992434978485107},\n",
       "  {'label': 'NEGATIVE', 'score': 0.9988741278648376},\n",
       "  {'label': 'NEGATIVE', 'score': 0.9994315505027771},\n",
       "  {'label': 'NEGATIVE', 'score': 0.99901282787323},\n",
       "  {'label': 'NEGATIVE', 'score': 0.9990560412406921},\n",
       "  {'label': 'POSITIVE', 'score': 0.9378337860107422},\n",
       "  {'label': 'POSITIVE', 'score': 0.9378337860107422},\n",
       "  {'label': 'NEGATIVE', 'score': 0.9880996346473694},\n",
       "  {'label': 'NEGATIVE', 'score': 0.9766747951507568},\n",
       "  {'label': 'POSITIVE', 'score': 0.9998674392700195},\n",
       "  {'label': 'NEGATIVE', 'score': 0.9915708303451538}],\n",
       " 'TSLA': [{'label': 'NEGATIVE', 'score': 0.9606534838676453},\n",
       "  {'label': 'NEGATIVE', 'score': 0.99946528673172},\n",
       "  {'label': 'POSITIVE', 'score': 0.9979088306427002},\n",
       "  {'label': 'NEGATIVE', 'score': 0.9522320032119751},\n",
       "  {'label': 'NEGATIVE', 'score': 0.9354450106620789},\n",
       "  {'label': 'NEGATIVE', 'score': 0.997977077960968},\n",
       "  {'label': 'NEGATIVE', 'score': 0.9676677584648132},\n",
       "  {'label': 'NEGATIVE', 'score': 0.9880996346473694},\n",
       "  {'label': 'POSITIVE', 'score': 0.9979451298713684}],\n",
       " 'BTC': [{'label': 'NEGATIVE', 'score': 0.9996198415756226},\n",
       "  {'label': 'NEGATIVE', 'score': 0.9991340041160583},\n",
       "  {'label': 'NEGATIVE', 'score': 0.9989274144172668},\n",
       "  {'label': 'NEGATIVE', 'score': 0.9991093277931213},\n",
       "  {'label': 'NEGATIVE', 'score': 0.9797898530960083},\n",
       "  {'label': 'POSITIVE', 'score': 0.9741136431694031},\n",
       "  {'label': 'NEGATIVE', 'score': 0.597372829914093},\n",
       "  {'label': 'NEGATIVE', 'score': 0.9880996346473694},\n",
       "  {'label': 'NEGATIVE', 'score': 0.9911858439445496},\n",
       "  {'label': 'POSITIVE', 'score': 0.9979088306427002},\n",
       "  {'label': 'NEGATIVE', 'score': 0.9954965114593506}]}"
      ]
     },
     "execution_count": 31,
     "metadata": {},
     "output_type": "execute_result"
    }
   ],
   "source": [
    "scores"
   ]
  },
  {
   "cell_type": "code",
   "execution_count": 32,
   "metadata": {
    "collapsed": true
   },
   "outputs": [
    {
     "data": {
      "text/plain": [
       "{'GME': ['https://finance.yahoo.com/news/why-gamestop-gme-down-22-153004926.html',\n",
       "  'https://www.vox.com/money/2023/9/15/23873474/dumb-money-gamestop-stock-keith-gill-melvin-capital-review',\n",
       "  'https://www.wsj.com/articles/the-lessons-of-dumb-money-gamestop-stock-craze-movie-daa0d0bf',\n",
       "  'https://www.marketwatch.com/data-news/gamestop-corp-cl-a-stock-underperforms-monday-when-compared-to-competitors-9d618c15-f2db90be2f39',\n",
       "  'https://investorplace.com/2023/10/gme-stock-is-headed-for-zero-even-with-ryan-cohen-in-the-ceo-seat/',\n",
       "  'https://www.cnbc.com/2023/09/28/gamestop-names-ryan-cohen-as-ceo-effective-immediately.html',\n",
       "  'https://www.cnbc.com/2023/09/15/heres-where-amc-and-gamestop-are-now-as-dumb-money-hits-theaters.html',\n",
       "  'https://www.google.com/search?q%3Dyahoo%2Bfinance%2BGME%26tbm%3Dnws%26pccc%3D1',\n",
       "  'https://fortune.com/2023/09/28/gamestop-names-ryan-cohen-ceo-meme-stock-chewy-founder/',\n",
       "  'https://www.theatlantic.com/culture/archive/2023/09/dumb-money-movie-review/675419/',\n",
       "  'https://www.barrons.com/articles/gamestop-stock-price-ryan-cohen-aa31dd8b'],\n",
       " 'TSLA': ['https://www.businessinsider.com/how-elon-musk-steve-jobs-similar-different-management-style-biography-walter-isaacson',\n",
       "  'https://www.teslarati.com/us-market-share-evs-q3/',\n",
       "  'https://finance.yahoo.com/video/tesla-releases-sells-cyberbeer-beverage-155254530.html',\n",
       "  'https://www.investing.com/news/stock-market-news/earnings-season-escalates-with-tesla-major-banks-set-to-report-93CH-3199968',\n",
       "  'https://finance.yahoo.com/news/tesla-netflix-and-banks-highlight-earnings-rush-the-week-ahead-140003751.html',\n",
       "  'https://www.benzinga.com/markets/equities/23/10/35255185/elon-musk-exposes-israel-hamas-wars-impact-on-xs-ad-revenues',\n",
       "  'https://www.businessinsider.com/tesla-owners-bill-battery-damaged-ev-scotland-weather-2023-10',\n",
       "  'https://www.google.com/search?q%3Dyahoo%2Bfinance%2BTSLA%26tbm%3Dnws%26pccc%3D1',\n",
       "  'https://m.timesofindia.com/auto/news/tesla-earnings-investors-watching-margins-deliveries-self-driving/articleshow/104469375.cms'],\n",
       " 'BTC': ['https://uk.finance.yahoo.com/news/bitcoin-price-rally-blackrock-093152634.html',\n",
       "  'https://www.fxstreet.com/cryptocurrencies/news/grayscale-says-it-is-operationally-ready-for-etf-as-gbtc-discount-narrows-202310160537',\n",
       "  'https://finance.yahoo.com/news/mr-bitcoin-down-big-jim-150833663.html',\n",
       "  'https://finance.yahoo.com/news/bitcoin-sinks-nearly-3-26-210130103.html',\n",
       "  'https://finance.yahoo.com/news/bitcoin-mining-industry-crucible-moment-163123240.html',\n",
       "  'https://finance.yahoo.com/news/bitcoin-fundamentally-different-other-cryptocurrencies-103529881.html',\n",
       "  'https://finance.yahoo.com/news/fuss-bitcoin-etfs-185142663.html',\n",
       "  'https://www.google.com/search?q%3Dyahoo%2Bfinance%2BBTC%26tbm%3Dnws%26pccc%3D1',\n",
       "  'https://finance.yahoo.com/news/bitcoin-etf-enthusiasts-hit-fake-200702961.html',\n",
       "  'https://finance.yahoo.com/video/spot-bitcoin-etf-tea-leaves-204253086.html',\n",
       "  'https://finance.yahoo.com/news/bitcoin-better-digital-gold-matrixport-094912488.html']}"
      ]
     },
     "execution_count": 32,
     "metadata": {},
     "output_type": "execute_result"
    }
   ],
   "source": [
    "cleaned_urls"
   ]
  },
  {
   "cell_type": "code",
   "execution_count": 33,
   "metadata": {},
   "outputs": [
    {
     "data": {
      "text/plain": [
       "range(0, 11)"
      ]
     },
     "execution_count": 33,
     "metadata": {},
     "output_type": "execute_result"
    }
   ],
   "source": [
    "range(len(summaries['GME']))"
   ]
  },
  {
   "cell_type": "code",
   "execution_count": 40,
   "metadata": {},
   "outputs": [
    {
     "data": {
      "text/plain": [
       "'Ryan Cohen, former Chewy CEO, takes no pay for job. Shares have dropped 23% since his appointment, suggesting doubts'"
      ]
     },
     "execution_count": 40,
     "metadata": {},
     "output_type": "execute_result"
    }
   ],
   "source": [
    "summaries['GME'][4]"
   ]
  },
  {
   "cell_type": "code",
   "execution_count": 41,
   "metadata": {},
   "outputs": [],
   "source": [
    "def create_output_array(summaries, scores, urls):\n",
    "    output = []\n",
    "    for ticker in monitored_tickers:\n",
    "        for counter in range(len(summaries[ticker])):\n",
    "            output_this = [\n",
    "                ticker,\n",
    "                summaries[ticker][counter],\n",
    "                scores[ticker][counter]['label'],\n",
    "                scores[ticker][counter]['score'],\n",
    "                urls[ticker][counter]\n",
    "            ]\n",
    "            output.append(output_this)\n",
    "    return output"
   ]
  },
  {
   "cell_type": "code",
   "execution_count": 42,
   "metadata": {
    "collapsed": true
   },
   "outputs": [
    {
     "data": {
      "text/plain": [
       "[['GME',\n",
       "  'Video game retailer reported better-than-expected results in second quarter. Shares of the company have lost about 22.1% in the past month',\n",
       "  'NEGATIVE',\n",
       "  0.9992434978485107,\n",
       "  'https://finance.yahoo.com/news/why-gamestop-gme-down-22-153004926.html'],\n",
       " ['GME',\n",
       "  'Back in early 2021, a ragtag group of everyday traders took on Wall Street. But two and a half years later, the story is a whole lot messier',\n",
       "  'NEGATIVE',\n",
       "  0.9988741278648376,\n",
       "  'https://www.vox.com/money/2023/9/15/23873474/dumb-money-gamestop-stock-keith-gill-melvin-capital-review'],\n",
       " ['GME',\n",
       "  'Rough Rough cut (no reporter narration)',\n",
       "  'NEGATIVE',\n",
       "  0.9994315505027771,\n",
       "  'https://www.wsj.com/articles/the-lessons-of-dumb-money-gamestop-stock-craze-movie-daa0d0bf'],\n",
       " ['GME',\n",
       "  'Shares of the video-game retailer have fallen below their 50-day moving average.',\n",
       "  'NEGATIVE',\n",
       "  0.99901282787323,\n",
       "  'https://www.marketwatch.com/data-news/gamestop-corp-cl-a-stock-underperforms-monday-when-compared-to-competitors-9d618c15-f2db90be2f39'],\n",
       " ['GME',\n",
       "  'Ryan Cohen, former Chewy CEO, takes no pay for job. Shares have dropped 23% since his appointment, suggesting doubts',\n",
       "  'NEGATIVE',\n",
       "  0.9990560412406921,\n",
       "  'https://investorplace.com/2023/10/gme-stock-is-headed-for-zero-even-with-ryan-cohen-in-the-ceo-seat/'],\n",
       " ['GME',\n",
       "  'Find the best credit cards, loans, insurance and more in SELECT.',\n",
       "  'POSITIVE',\n",
       "  0.9378337860107422,\n",
       "  'https://www.cnbc.com/2023/09/28/gamestop-names-ryan-cohen-as-ceo-effective-immediately.html'],\n",
       " ['GME',\n",
       "  'Find the best credit cards, loans, insurance and more in SELECT.',\n",
       "  'POSITIVE',\n",
       "  0.9378337860107422,\n",
       "  'https://www.cnbc.com/2023/09/15/heres-where-amc-and-gamestop-are-now-as-dumb-money-hits-theaters.html'],\n",
       " ['GME',\n",
       "  'All images are copyrighted.',\n",
       "  'NEGATIVE',\n",
       "  0.9880996346473694,\n",
       "  'https://www.google.com/search?q%3Dyahoo%2Bfinance%2BGME%26tbm%3Dnws%26pccc%3D1'],\n",
       " ['GME',\n",
       "  'Cohen already serves as chairman of the board. Video game retailer has been without a CEO since June',\n",
       "  'NEGATIVE',\n",
       "  0.9766747951507568,\n",
       "  'https://fortune.com/2023/09/28/gamestop-names-ryan-cohen-ceo-meme-stock-chewy-founder/'],\n",
       " ['GME',\n",
       "  'Director Craig Gillespie’s film is a diverting, high-energy romp.',\n",
       "  'POSITIVE',\n",
       "  0.9998674392700195,\n",
       "  'https://www.theatlantic.com/culture/archive/2023/09/dumb-money-movie-review/675419/'],\n",
       " ['GME',\n",
       "  'Have you tried going to Newsround?',\n",
       "  'NEGATIVE',\n",
       "  0.9915708303451538,\n",
       "  'https://www.barrons.com/articles/gamestop-stock-price-ryan-cohen-aa31dd8b'],\n",
       " ['TSLA',\n",
       "  'Walter Isaacson says he interviewed both men more than 40 times. Musk has a \"dark streak\" that his ex-girlfriend dubbed \"Demon mode',\n",
       "  'NEGATIVE',\n",
       "  0.9606534838676453,\n",
       "  'https://www.businessinsider.com/how-elon-musk-steve-jobs-similar-different-management-style-biography-walter-isaacson'],\n",
       " ['TSLA',\n",
       "  'Tesla falls short of Q3 delivery estimates, market share falls. Lower prices have made EVs more affordable for many',\n",
       "  'NEGATIVE',\n",
       "  0.99946528673172,\n",
       "  'https://www.teslarati.com/us-market-share-evs-q3/'],\n",
       " ['TSLA',\n",
       "  'We are aware of the issue and are working to resolve it.',\n",
       "  'POSITIVE',\n",
       "  0.9979088306427002,\n",
       "  'https://finance.yahoo.com/video/tesla-releases-sells-cyberbeer-beverage-155254530.html'],\n",
       " ['TSLA',\n",
       "  'You have been directed to this page because of an action you took.',\n",
       "  'NEGATIVE',\n",
       "  0.9522320032119751,\n",
       "  'https://www.investing.com/news/stock-market-news/earnings-season-escalates-with-tesla-major-banks-set-to-report-93CH-3199968'],\n",
       " ['TSLA',\n",
       "  'Bank of America, Goldman Sachs to report third-quarter results. Tesla, Netflix and other tech companies to report results',\n",
       "  'NEGATIVE',\n",
       "  0.9354450106620789,\n",
       "  'https://finance.yahoo.com/news/tesla-netflix-and-banks-highlight-earnings-rush-the-week-ahead-140003751.html'],\n",
       " ['TSLA',\n",
       "  'DropCatch DropCatch DropCatch DropCatch DropCatch, formerly known as Twitter, is under scrutiny.',\n",
       "  'NEGATIVE',\n",
       "  0.997977077960968,\n",
       "  'https://www.benzinga.com/markets/equities/23/10/35255185/elon-musk-exposes-israel-hamas-wars-impact-on-xs-ad-revenues'],\n",
       " ['TSLA',\n",
       "  'All photographs subject to copyright.',\n",
       "  'NEGATIVE',\n",
       "  0.9676677584648132,\n",
       "  'https://www.businessinsider.com/tesla-owners-bill-battery-damaged-ev-scotland-weather-2023-10'],\n",
       " ['TSLA',\n",
       "  'All images are copyrighted.',\n",
       "  'NEGATIVE',\n",
       "  0.9880996346473694,\n",
       "  'https://www.google.com/search?q%3Dyahoo%2Bfinance%2BTSLA%26tbm%3Dnws%26pccc%3D1'],\n",
       " ['TSLA',\n",
       "  'Highest-selling SUVs in September 2023: Mahindra Scorpio to Hyundai Tucson',\n",
       "  'POSITIVE',\n",
       "  0.9979451298713684,\n",
       "  'https://m.timesofindia.com/auto/news/tesla-earnings-investors-watching-margins-deliveries-self-driving/articleshow/104469375.cms'],\n",
       " ['BTC',\n",
       "  'The supply of bitcoin held by short-term holders is at its lowest point in nearly eight years.',\n",
       "  'NEGATIVE',\n",
       "  0.9996198415756226,\n",
       "  'https://uk.finance.yahoo.com/news/bitcoin-price-rally-blackrock-093152634.html'],\n",
       " ['BTC',\n",
       "  'GBTC market cap is close to $3.5 billion based on Yahoo Finance data. discount on GBTC shares against net asset value has reduced',\n",
       "  'NEGATIVE',\n",
       "  0.9991340041160583,\n",
       "  'https://www.fxstreet.com/cryptocurrencies/news/grayscale-says-it-is-operationally-ready-for-etf-as-gbtc-discount-narrows-202310160537'],\n",
       " ['BTC',\n",
       "  '‘I can’t go out with gold because gold is not good,’ says Cramer. Bitcoin is about to go down big, he says',\n",
       "  'NEGATIVE',\n",
       "  0.9989274144172668,\n",
       "  'https://finance.yahoo.com/news/mr-bitcoin-down-big-jim-150833663.html'],\n",
       " ['BTC',\n",
       "  'Bitcoin falls below $27,000, underperforming CoinDesk Market Index. Ripple Labs-related, litecoin and Polkadot’s native token drop',\n",
       "  'NEGATIVE',\n",
       "  0.9991093277931213,\n",
       "  'https://finance.yahoo.com/news/bitcoin-sinks-nearly-3-26-210130103.html'],\n",
       " ['BTC',\n",
       "  'Biggest miner CleanSpark offers best relative value, bank says. Bitcoin ETF decision delayed by SEC until this month',\n",
       "  'NEGATIVE',\n",
       "  0.9797898530960083,\n",
       "  'https://finance.yahoo.com/news/bitcoin-mining-industry-crucible-moment-163123240.html'],\n",
       " ['BTC',\n",
       "  'Bitcoin is a monetary good, not a ‘first-mover’ technology, report says.',\n",
       "  'POSITIVE',\n",
       "  0.9741136431694031,\n",
       "  'https://finance.yahoo.com/news/bitcoin-fundamentally-different-other-cryptocurrencies-103529881.html'],\n",
       " ['BTC',\n",
       "  'Asset manager’s application for a spot market ETF is still under review. Demand for traditional financial instruments is pent up',\n",
       "  'NEGATIVE',\n",
       "  0.597372829914093,\n",
       "  'https://finance.yahoo.com/news/fuss-bitcoin-etfs-185142663.html'],\n",
       " ['BTC',\n",
       "  'All images are copyrighted.',\n",
       "  'NEGATIVE',\n",
       "  0.9880996346473694,\n",
       "  'https://www.google.com/search?q%3Dyahoo%2Bfinance%2BBTC%26tbm%3Dnws%26pccc%3D1'],\n",
       " ['BTC',\n",
       "  'More than $85 million worth of trading positions liquidated in 24 hours. BlackRock says its ETF application is still under review',\n",
       "  'NEGATIVE',\n",
       "  0.9911858439445496,\n",
       "  'https://finance.yahoo.com/news/bitcoin-etf-enthusiasts-hit-fake-200702961.html'],\n",
       " ['BTC',\n",
       "  'We are aware of the issue and are working to resolve it.',\n",
       "  'POSITIVE',\n",
       "  0.9979088306427002,\n",
       "  'https://finance.yahoo.com/video/spot-bitcoin-etf-tea-leaves-204253086.html'],\n",
       " ['BTC',\n",
       "  'Bitcoin’s market cap is equivalent to 10.8% of physical gold, report says. ETF approval could trigger inflows of $20-30 billion, report says',\n",
       "  'NEGATIVE',\n",
       "  0.9954965114593506,\n",
       "  'https://finance.yahoo.com/news/bitcoin-better-digital-gold-matrixport-094912488.html']]"
      ]
     },
     "execution_count": 42,
     "metadata": {},
     "output_type": "execute_result"
    }
   ],
   "source": [
    "final_output = create_output_array(summaries, scores, cleaned_urls)\n",
    "final_output"
   ]
  },
  {
   "cell_type": "code",
   "execution_count": 43,
   "metadata": {},
   "outputs": [],
   "source": [
    "final_output.insert(0, ['Ticker', 'Summary', 'Label', 'Confidence', 'URL'])"
   ]
  },
  {
   "cell_type": "code",
   "execution_count": 44,
   "metadata": {
    "collapsed": true
   },
   "outputs": [
    {
     "data": {
      "text/plain": [
       "[['Ticker', 'Summary', 'Label', 'Confidence', 'URL'],\n",
       " ['GME',\n",
       "  'Video game retailer reported better-than-expected results in second quarter. Shares of the company have lost about 22.1% in the past month',\n",
       "  'NEGATIVE',\n",
       "  0.9992434978485107,\n",
       "  'https://finance.yahoo.com/news/why-gamestop-gme-down-22-153004926.html'],\n",
       " ['GME',\n",
       "  'Back in early 2021, a ragtag group of everyday traders took on Wall Street. But two and a half years later, the story is a whole lot messier',\n",
       "  'NEGATIVE',\n",
       "  0.9988741278648376,\n",
       "  'https://www.vox.com/money/2023/9/15/23873474/dumb-money-gamestop-stock-keith-gill-melvin-capital-review'],\n",
       " ['GME',\n",
       "  'Rough Rough cut (no reporter narration)',\n",
       "  'NEGATIVE',\n",
       "  0.9994315505027771,\n",
       "  'https://www.wsj.com/articles/the-lessons-of-dumb-money-gamestop-stock-craze-movie-daa0d0bf'],\n",
       " ['GME',\n",
       "  'Shares of the video-game retailer have fallen below their 50-day moving average.',\n",
       "  'NEGATIVE',\n",
       "  0.99901282787323,\n",
       "  'https://www.marketwatch.com/data-news/gamestop-corp-cl-a-stock-underperforms-monday-when-compared-to-competitors-9d618c15-f2db90be2f39'],\n",
       " ['GME',\n",
       "  'Ryan Cohen, former Chewy CEO, takes no pay for job. Shares have dropped 23% since his appointment, suggesting doubts',\n",
       "  'NEGATIVE',\n",
       "  0.9990560412406921,\n",
       "  'https://investorplace.com/2023/10/gme-stock-is-headed-for-zero-even-with-ryan-cohen-in-the-ceo-seat/'],\n",
       " ['GME',\n",
       "  'Find the best credit cards, loans, insurance and more in SELECT.',\n",
       "  'POSITIVE',\n",
       "  0.9378337860107422,\n",
       "  'https://www.cnbc.com/2023/09/28/gamestop-names-ryan-cohen-as-ceo-effective-immediately.html'],\n",
       " ['GME',\n",
       "  'Find the best credit cards, loans, insurance and more in SELECT.',\n",
       "  'POSITIVE',\n",
       "  0.9378337860107422,\n",
       "  'https://www.cnbc.com/2023/09/15/heres-where-amc-and-gamestop-are-now-as-dumb-money-hits-theaters.html'],\n",
       " ['GME',\n",
       "  'All images are copyrighted.',\n",
       "  'NEGATIVE',\n",
       "  0.9880996346473694,\n",
       "  'https://www.google.com/search?q%3Dyahoo%2Bfinance%2BGME%26tbm%3Dnws%26pccc%3D1'],\n",
       " ['GME',\n",
       "  'Cohen already serves as chairman of the board. Video game retailer has been without a CEO since June',\n",
       "  'NEGATIVE',\n",
       "  0.9766747951507568,\n",
       "  'https://fortune.com/2023/09/28/gamestop-names-ryan-cohen-ceo-meme-stock-chewy-founder/'],\n",
       " ['GME',\n",
       "  'Director Craig Gillespie’s film is a diverting, high-energy romp.',\n",
       "  'POSITIVE',\n",
       "  0.9998674392700195,\n",
       "  'https://www.theatlantic.com/culture/archive/2023/09/dumb-money-movie-review/675419/'],\n",
       " ['GME',\n",
       "  'Have you tried going to Newsround?',\n",
       "  'NEGATIVE',\n",
       "  0.9915708303451538,\n",
       "  'https://www.barrons.com/articles/gamestop-stock-price-ryan-cohen-aa31dd8b'],\n",
       " ['TSLA',\n",
       "  'Walter Isaacson says he interviewed both men more than 40 times. Musk has a \"dark streak\" that his ex-girlfriend dubbed \"Demon mode',\n",
       "  'NEGATIVE',\n",
       "  0.9606534838676453,\n",
       "  'https://www.businessinsider.com/how-elon-musk-steve-jobs-similar-different-management-style-biography-walter-isaacson'],\n",
       " ['TSLA',\n",
       "  'Tesla falls short of Q3 delivery estimates, market share falls. Lower prices have made EVs more affordable for many',\n",
       "  'NEGATIVE',\n",
       "  0.99946528673172,\n",
       "  'https://www.teslarati.com/us-market-share-evs-q3/'],\n",
       " ['TSLA',\n",
       "  'We are aware of the issue and are working to resolve it.',\n",
       "  'POSITIVE',\n",
       "  0.9979088306427002,\n",
       "  'https://finance.yahoo.com/video/tesla-releases-sells-cyberbeer-beverage-155254530.html'],\n",
       " ['TSLA',\n",
       "  'You have been directed to this page because of an action you took.',\n",
       "  'NEGATIVE',\n",
       "  0.9522320032119751,\n",
       "  'https://www.investing.com/news/stock-market-news/earnings-season-escalates-with-tesla-major-banks-set-to-report-93CH-3199968'],\n",
       " ['TSLA',\n",
       "  'Bank of America, Goldman Sachs to report third-quarter results. Tesla, Netflix and other tech companies to report results',\n",
       "  'NEGATIVE',\n",
       "  0.9354450106620789,\n",
       "  'https://finance.yahoo.com/news/tesla-netflix-and-banks-highlight-earnings-rush-the-week-ahead-140003751.html'],\n",
       " ['TSLA',\n",
       "  'DropCatch DropCatch DropCatch DropCatch DropCatch, formerly known as Twitter, is under scrutiny.',\n",
       "  'NEGATIVE',\n",
       "  0.997977077960968,\n",
       "  'https://www.benzinga.com/markets/equities/23/10/35255185/elon-musk-exposes-israel-hamas-wars-impact-on-xs-ad-revenues'],\n",
       " ['TSLA',\n",
       "  'All photographs subject to copyright.',\n",
       "  'NEGATIVE',\n",
       "  0.9676677584648132,\n",
       "  'https://www.businessinsider.com/tesla-owners-bill-battery-damaged-ev-scotland-weather-2023-10'],\n",
       " ['TSLA',\n",
       "  'All images are copyrighted.',\n",
       "  'NEGATIVE',\n",
       "  0.9880996346473694,\n",
       "  'https://www.google.com/search?q%3Dyahoo%2Bfinance%2BTSLA%26tbm%3Dnws%26pccc%3D1'],\n",
       " ['TSLA',\n",
       "  'Highest-selling SUVs in September 2023: Mahindra Scorpio to Hyundai Tucson',\n",
       "  'POSITIVE',\n",
       "  0.9979451298713684,\n",
       "  'https://m.timesofindia.com/auto/news/tesla-earnings-investors-watching-margins-deliveries-self-driving/articleshow/104469375.cms'],\n",
       " ['BTC',\n",
       "  'The supply of bitcoin held by short-term holders is at its lowest point in nearly eight years.',\n",
       "  'NEGATIVE',\n",
       "  0.9996198415756226,\n",
       "  'https://uk.finance.yahoo.com/news/bitcoin-price-rally-blackrock-093152634.html'],\n",
       " ['BTC',\n",
       "  'GBTC market cap is close to $3.5 billion based on Yahoo Finance data. discount on GBTC shares against net asset value has reduced',\n",
       "  'NEGATIVE',\n",
       "  0.9991340041160583,\n",
       "  'https://www.fxstreet.com/cryptocurrencies/news/grayscale-says-it-is-operationally-ready-for-etf-as-gbtc-discount-narrows-202310160537'],\n",
       " ['BTC',\n",
       "  '‘I can’t go out with gold because gold is not good,’ says Cramer. Bitcoin is about to go down big, he says',\n",
       "  'NEGATIVE',\n",
       "  0.9989274144172668,\n",
       "  'https://finance.yahoo.com/news/mr-bitcoin-down-big-jim-150833663.html'],\n",
       " ['BTC',\n",
       "  'Bitcoin falls below $27,000, underperforming CoinDesk Market Index. Ripple Labs-related, litecoin and Polkadot’s native token drop',\n",
       "  'NEGATIVE',\n",
       "  0.9991093277931213,\n",
       "  'https://finance.yahoo.com/news/bitcoin-sinks-nearly-3-26-210130103.html'],\n",
       " ['BTC',\n",
       "  'Biggest miner CleanSpark offers best relative value, bank says. Bitcoin ETF decision delayed by SEC until this month',\n",
       "  'NEGATIVE',\n",
       "  0.9797898530960083,\n",
       "  'https://finance.yahoo.com/news/bitcoin-mining-industry-crucible-moment-163123240.html'],\n",
       " ['BTC',\n",
       "  'Bitcoin is a monetary good, not a ‘first-mover’ technology, report says.',\n",
       "  'POSITIVE',\n",
       "  0.9741136431694031,\n",
       "  'https://finance.yahoo.com/news/bitcoin-fundamentally-different-other-cryptocurrencies-103529881.html'],\n",
       " ['BTC',\n",
       "  'Asset manager’s application for a spot market ETF is still under review. Demand for traditional financial instruments is pent up',\n",
       "  'NEGATIVE',\n",
       "  0.597372829914093,\n",
       "  'https://finance.yahoo.com/news/fuss-bitcoin-etfs-185142663.html'],\n",
       " ['BTC',\n",
       "  'All images are copyrighted.',\n",
       "  'NEGATIVE',\n",
       "  0.9880996346473694,\n",
       "  'https://www.google.com/search?q%3Dyahoo%2Bfinance%2BBTC%26tbm%3Dnws%26pccc%3D1'],\n",
       " ['BTC',\n",
       "  'More than $85 million worth of trading positions liquidated in 24 hours. BlackRock says its ETF application is still under review',\n",
       "  'NEGATIVE',\n",
       "  0.9911858439445496,\n",
       "  'https://finance.yahoo.com/news/bitcoin-etf-enthusiasts-hit-fake-200702961.html'],\n",
       " ['BTC',\n",
       "  'We are aware of the issue and are working to resolve it.',\n",
       "  'POSITIVE',\n",
       "  0.9979088306427002,\n",
       "  'https://finance.yahoo.com/video/spot-bitcoin-etf-tea-leaves-204253086.html'],\n",
       " ['BTC',\n",
       "  'Bitcoin’s market cap is equivalent to 10.8% of physical gold, report says. ETF approval could trigger inflows of $20-30 billion, report says',\n",
       "  'NEGATIVE',\n",
       "  0.9954965114593506,\n",
       "  'https://finance.yahoo.com/news/bitcoin-better-digital-gold-matrixport-094912488.html']]"
      ]
     },
     "execution_count": 44,
     "metadata": {},
     "output_type": "execute_result"
    }
   ],
   "source": [
    "final_output"
   ]
  },
  {
   "cell_type": "code",
   "execution_count": 45,
   "metadata": {},
   "outputs": [],
   "source": [
    "import csv\n",
    "with open('assetsummaries.csv', mode='w', newline='') as f:\n",
    "    csv_writer = csv.writer(f, delimiter=',', quotechar='\"', quoting=csv.QUOTE_MINIMAL)\n",
    "    csv_writer.writerows(final_output)"
   ]
  },
  {
   "cell_type": "code",
   "execution_count": null,
   "metadata": {},
   "outputs": [],
   "source": []
  },
  {
   "cell_type": "code",
   "execution_count": null,
   "metadata": {},
   "outputs": [],
   "source": []
  },
  {
   "cell_type": "code",
   "execution_count": null,
   "metadata": {},
   "outputs": [],
   "source": []
  }
 ],
 "metadata": {
  "kernelspec": {
   "display_name": "Python 3",
   "language": "python",
   "name": "python3"
  },
  "language_info": {
   "codemirror_mode": {
    "name": "ipython",
    "version": 3
   },
   "file_extension": ".py",
   "mimetype": "text/x-python",
   "name": "python",
   "nbconvert_exporter": "python",
   "pygments_lexer": "ipython3",
   "version": "3.9.13"
  }
 },
 "nbformat": 4,
 "nbformat_minor": 2
}
